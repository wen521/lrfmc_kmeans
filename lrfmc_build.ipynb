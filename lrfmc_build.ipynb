{
 "cells": [
  {
   "cell_type": "code",
   "execution_count": 77,
   "metadata": {
    "ExecuteTime": {
     "end_time": "2021-06-09T10:22:19.037152Z",
     "start_time": "2021-06-09T10:22:19.023189Z"
    }
   },
   "outputs": [],
   "source": [
    "import pandas as pd\n",
    "import numpy as np\n",
    "import matplotlib.pyplot as plt\n",
    "import seaborn as sns\n",
    "%matplotlib inline\n",
    "plt.style.use('ggplot')"
   ]
  },
  {
   "cell_type": "markdown",
   "metadata": {},
   "source": [
    "**建立LRFMC 客户价值模型，对数据进行规约（标准化）**"
   ]
  },
  {
   "cell_type": "code",
   "execution_count": 78,
   "metadata": {
    "ExecuteTime": {
     "end_time": "2021-06-09T10:22:19.930215Z",
     "start_time": "2021-06-09T10:22:19.041142Z"
    }
   },
   "outputs": [
    {
     "data": {
      "text/html": [
       "<div>\n",
       "<style scoped>\n",
       "    .dataframe tbody tr th:only-of-type {\n",
       "        vertical-align: middle;\n",
       "    }\n",
       "\n",
       "    .dataframe tbody tr th {\n",
       "        vertical-align: top;\n",
       "    }\n",
       "\n",
       "    .dataframe thead th {\n",
       "        text-align: right;\n",
       "    }\n",
       "</style>\n",
       "<table border=\"1\" class=\"dataframe\">\n",
       "  <thead>\n",
       "    <tr style=\"text-align: right;\">\n",
       "      <th></th>\n",
       "      <th>MEMBER_NO</th>\n",
       "      <th>FFP_DATE</th>\n",
       "      <th>FIRST_FLIGHT_DATE</th>\n",
       "      <th>GENDER</th>\n",
       "      <th>FFP_TIER</th>\n",
       "      <th>WORK_CITY</th>\n",
       "      <th>WORK_PROVINCE</th>\n",
       "      <th>WORK_COUNTRY</th>\n",
       "      <th>AGE</th>\n",
       "      <th>LOAD_TIME</th>\n",
       "      <th>...</th>\n",
       "      <th>ADD_Point_SUM</th>\n",
       "      <th>Eli_Add_Point_Sum</th>\n",
       "      <th>L1Y_ELi_Add_Points</th>\n",
       "      <th>Points_Sum</th>\n",
       "      <th>L1Y_Points_Sum</th>\n",
       "      <th>Ration_L1Y_Flight_Count</th>\n",
       "      <th>Ration_P1Y_Flight_Count</th>\n",
       "      <th>Ration_P1Y_BPS</th>\n",
       "      <th>Ration_L1Y_BPS</th>\n",
       "      <th>Point_NotFlight</th>\n",
       "    </tr>\n",
       "  </thead>\n",
       "  <tbody>\n",
       "    <tr>\n",
       "      <th>0</th>\n",
       "      <td>54993</td>\n",
       "      <td>2006/11/2</td>\n",
       "      <td>2008/12/24</td>\n",
       "      <td>男</td>\n",
       "      <td>6</td>\n",
       "      <td>.</td>\n",
       "      <td>北京</td>\n",
       "      <td>CN</td>\n",
       "      <td>31.0</td>\n",
       "      <td>2014/3/31</td>\n",
       "      <td>...</td>\n",
       "      <td>39992</td>\n",
       "      <td>114452</td>\n",
       "      <td>111100</td>\n",
       "      <td>619760</td>\n",
       "      <td>370211</td>\n",
       "      <td>0.509524</td>\n",
       "      <td>0.490476</td>\n",
       "      <td>0.487221</td>\n",
       "      <td>0.512777</td>\n",
       "      <td>50</td>\n",
       "    </tr>\n",
       "    <tr>\n",
       "      <th>1</th>\n",
       "      <td>28065</td>\n",
       "      <td>2007/2/19</td>\n",
       "      <td>2007/8/3</td>\n",
       "      <td>男</td>\n",
       "      <td>6</td>\n",
       "      <td>NaN</td>\n",
       "      <td>北京</td>\n",
       "      <td>CN</td>\n",
       "      <td>42.0</td>\n",
       "      <td>2014/3/31</td>\n",
       "      <td>...</td>\n",
       "      <td>12000</td>\n",
       "      <td>53288</td>\n",
       "      <td>53288</td>\n",
       "      <td>415768</td>\n",
       "      <td>238410</td>\n",
       "      <td>0.514286</td>\n",
       "      <td>0.485714</td>\n",
       "      <td>0.489289</td>\n",
       "      <td>0.510708</td>\n",
       "      <td>33</td>\n",
       "    </tr>\n",
       "    <tr>\n",
       "      <th>2</th>\n",
       "      <td>55106</td>\n",
       "      <td>2007/2/1</td>\n",
       "      <td>2007/8/30</td>\n",
       "      <td>男</td>\n",
       "      <td>6</td>\n",
       "      <td>.</td>\n",
       "      <td>北京</td>\n",
       "      <td>CN</td>\n",
       "      <td>40.0</td>\n",
       "      <td>2014/3/31</td>\n",
       "      <td>...</td>\n",
       "      <td>15491</td>\n",
       "      <td>55202</td>\n",
       "      <td>51711</td>\n",
       "      <td>406361</td>\n",
       "      <td>233798</td>\n",
       "      <td>0.518519</td>\n",
       "      <td>0.481481</td>\n",
       "      <td>0.481467</td>\n",
       "      <td>0.518530</td>\n",
       "      <td>26</td>\n",
       "    </tr>\n",
       "    <tr>\n",
       "      <th>3</th>\n",
       "      <td>21189</td>\n",
       "      <td>2008/8/22</td>\n",
       "      <td>2008/8/23</td>\n",
       "      <td>男</td>\n",
       "      <td>5</td>\n",
       "      <td>Los Angeles</td>\n",
       "      <td>CA</td>\n",
       "      <td>US</td>\n",
       "      <td>64.0</td>\n",
       "      <td>2014/3/31</td>\n",
       "      <td>...</td>\n",
       "      <td>0</td>\n",
       "      <td>34890</td>\n",
       "      <td>34890</td>\n",
       "      <td>372204</td>\n",
       "      <td>186100</td>\n",
       "      <td>0.434783</td>\n",
       "      <td>0.565217</td>\n",
       "      <td>0.551722</td>\n",
       "      <td>0.448275</td>\n",
       "      <td>12</td>\n",
       "    </tr>\n",
       "    <tr>\n",
       "      <th>4</th>\n",
       "      <td>39546</td>\n",
       "      <td>2009/4/10</td>\n",
       "      <td>2009/4/15</td>\n",
       "      <td>男</td>\n",
       "      <td>6</td>\n",
       "      <td>贵阳</td>\n",
       "      <td>贵州</td>\n",
       "      <td>CN</td>\n",
       "      <td>48.0</td>\n",
       "      <td>2014/3/31</td>\n",
       "      <td>...</td>\n",
       "      <td>22704</td>\n",
       "      <td>64969</td>\n",
       "      <td>64969</td>\n",
       "      <td>338813</td>\n",
       "      <td>210365</td>\n",
       "      <td>0.532895</td>\n",
       "      <td>0.467105</td>\n",
       "      <td>0.469054</td>\n",
       "      <td>0.530943</td>\n",
       "      <td>39</td>\n",
       "    </tr>\n",
       "  </tbody>\n",
       "</table>\n",
       "<p>5 rows × 44 columns</p>\n",
       "</div>"
      ],
      "text/plain": [
       "   MEMBER_NO   FFP_DATE FIRST_FLIGHT_DATE GENDER  FFP_TIER    WORK_CITY  \\\n",
       "0      54993  2006/11/2        2008/12/24      男         6            .   \n",
       "1      28065  2007/2/19          2007/8/3      男         6          NaN   \n",
       "2      55106   2007/2/1         2007/8/30      男         6            .   \n",
       "3      21189  2008/8/22         2008/8/23      男         5  Los Angeles   \n",
       "4      39546  2009/4/10         2009/4/15      男         6           贵阳   \n",
       "\n",
       "  WORK_PROVINCE WORK_COUNTRY   AGE  LOAD_TIME  ...  ADD_Point_SUM  \\\n",
       "0            北京           CN  31.0  2014/3/31  ...          39992   \n",
       "1            北京           CN  42.0  2014/3/31  ...          12000   \n",
       "2            北京           CN  40.0  2014/3/31  ...          15491   \n",
       "3            CA           US  64.0  2014/3/31  ...              0   \n",
       "4            贵州           CN  48.0  2014/3/31  ...          22704   \n",
       "\n",
       "   Eli_Add_Point_Sum  L1Y_ELi_Add_Points  Points_Sum  L1Y_Points_Sum  \\\n",
       "0             114452              111100      619760          370211   \n",
       "1              53288               53288      415768          238410   \n",
       "2              55202               51711      406361          233798   \n",
       "3              34890               34890      372204          186100   \n",
       "4              64969               64969      338813          210365   \n",
       "\n",
       "   Ration_L1Y_Flight_Count  Ration_P1Y_Flight_Count  Ration_P1Y_BPS  \\\n",
       "0                 0.509524                 0.490476        0.487221   \n",
       "1                 0.514286                 0.485714        0.489289   \n",
       "2                 0.518519                 0.481481        0.481467   \n",
       "3                 0.434783                 0.565217        0.551722   \n",
       "4                 0.532895                 0.467105        0.469054   \n",
       "\n",
       "  Ration_L1Y_BPS  Point_NotFlight  \n",
       "0       0.512777               50  \n",
       "1       0.510708               33  \n",
       "2       0.518530               26  \n",
       "3       0.448275               12  \n",
       "4       0.530943               39  \n",
       "\n",
       "[5 rows x 44 columns]"
      ]
     },
     "execution_count": 78,
     "metadata": {},
     "output_type": "execute_result"
    }
   ],
   "source": [
    "df= pd.read_csv('clean_data.csv')\n",
    "df.head()"
   ]
  },
  {
   "cell_type": "code",
   "execution_count": 79,
   "metadata": {
    "ExecuteTime": {
     "end_time": "2021-06-09T10:22:19.962133Z",
     "start_time": "2021-06-09T10:22:19.937197Z"
    }
   },
   "outputs": [
    {
     "data": {
      "text/plain": [
       "0     1\n",
       "1     7\n",
       "2    11\n",
       "3    97\n",
       "4     5\n",
       "Name: LAST_TO_END, dtype: int64"
      ]
     },
     "execution_count": 79,
     "metadata": {},
     "output_type": "execute_result"
    }
   ],
   "source": [
    "df['LAST_TO_END'].head()"
   ]
  },
  {
   "cell_type": "code",
   "execution_count": 80,
   "metadata": {
    "ExecuteTime": {
     "end_time": "2021-06-09T10:22:20.086181Z",
     "start_time": "2021-06-09T10:22:19.971118Z"
    }
   },
   "outputs": [],
   "source": [
    "\n",
    "feat = ['FLIGHT_COUNT','SEG_KM_SUM','avg_discount','LAST_TO_END']"
   ]
  },
  {
   "cell_type": "code",
   "execution_count": 81,
   "metadata": {
    "ExecuteTime": {
     "end_time": "2021-06-09T10:22:20.321929Z",
     "start_time": "2021-06-09T10:22:20.090171Z"
    }
   },
   "outputs": [],
   "source": [
    "df['LOAD_TIME'] = pd.to_datetime(df['LOAD_TIME'],format=('%Y/%m/%d'))\n",
    "df['FFP_DATE'] = pd.to_datetime(df['FFP_DATE'],format=('%Y/%m/%d'))\n",
    "L = df['LOAD_TIME'] - df['FFP_DATE']"
   ]
  },
  {
   "cell_type": "code",
   "execution_count": 82,
   "metadata": {
    "ExecuteTime": {
     "end_time": "2021-06-09T10:22:22.349519Z",
     "start_time": "2021-06-09T10:22:20.330918Z"
    }
   },
   "outputs": [],
   "source": [
    "L = L.astype(str).str.split().str[0]"
   ]
  },
  {
   "cell_type": "code",
   "execution_count": 83,
   "metadata": {
    "ExecuteTime": {
     "end_time": "2021-06-09T10:22:22.398371Z",
     "start_time": "2021-06-09T10:22:22.353490Z"
    }
   },
   "outputs": [
    {
     "data": {
      "text/html": [
       "<div>\n",
       "<style scoped>\n",
       "    .dataframe tbody tr th:only-of-type {\n",
       "        vertical-align: middle;\n",
       "    }\n",
       "\n",
       "    .dataframe tbody tr th {\n",
       "        vertical-align: top;\n",
       "    }\n",
       "\n",
       "    .dataframe thead th {\n",
       "        text-align: right;\n",
       "    }\n",
       "</style>\n",
       "<table border=\"1\" class=\"dataframe\">\n",
       "  <thead>\n",
       "    <tr style=\"text-align: right;\">\n",
       "      <th></th>\n",
       "      <th>FLIGHT_COUNT</th>\n",
       "      <th>SEG_KM_SUM</th>\n",
       "      <th>avg_discount</th>\n",
       "      <th>LAST_TO_END</th>\n",
       "    </tr>\n",
       "  </thead>\n",
       "  <tbody>\n",
       "    <tr>\n",
       "      <th>0</th>\n",
       "      <td>210</td>\n",
       "      <td>580717</td>\n",
       "      <td>0.961639</td>\n",
       "      <td>1</td>\n",
       "    </tr>\n",
       "    <tr>\n",
       "      <th>1</th>\n",
       "      <td>140</td>\n",
       "      <td>293678</td>\n",
       "      <td>1.252314</td>\n",
       "      <td>7</td>\n",
       "    </tr>\n",
       "    <tr>\n",
       "      <th>2</th>\n",
       "      <td>135</td>\n",
       "      <td>283712</td>\n",
       "      <td>1.254676</td>\n",
       "      <td>11</td>\n",
       "    </tr>\n",
       "    <tr>\n",
       "      <th>3</th>\n",
       "      <td>23</td>\n",
       "      <td>281336</td>\n",
       "      <td>1.090870</td>\n",
       "      <td>97</td>\n",
       "    </tr>\n",
       "    <tr>\n",
       "      <th>4</th>\n",
       "      <td>152</td>\n",
       "      <td>309928</td>\n",
       "      <td>0.970658</td>\n",
       "      <td>5</td>\n",
       "    </tr>\n",
       "    <tr>\n",
       "      <th>...</th>\n",
       "      <td>...</td>\n",
       "      <td>...</td>\n",
       "      <td>...</td>\n",
       "      <td>...</td>\n",
       "    </tr>\n",
       "    <tr>\n",
       "      <th>62038</th>\n",
       "      <td>2</td>\n",
       "      <td>368</td>\n",
       "      <td>0.710000</td>\n",
       "      <td>89</td>\n",
       "    </tr>\n",
       "    <tr>\n",
       "      <th>62039</th>\n",
       "      <td>2</td>\n",
       "      <td>368</td>\n",
       "      <td>0.670000</td>\n",
       "      <td>121</td>\n",
       "    </tr>\n",
       "    <tr>\n",
       "      <th>62040</th>\n",
       "      <td>2</td>\n",
       "      <td>1062</td>\n",
       "      <td>0.225000</td>\n",
       "      <td>39</td>\n",
       "    </tr>\n",
       "    <tr>\n",
       "      <th>62041</th>\n",
       "      <td>2</td>\n",
       "      <td>904</td>\n",
       "      <td>0.250000</td>\n",
       "      <td>464</td>\n",
       "    </tr>\n",
       "    <tr>\n",
       "      <th>62042</th>\n",
       "      <td>2</td>\n",
       "      <td>760</td>\n",
       "      <td>0.280000</td>\n",
       "      <td>282</td>\n",
       "    </tr>\n",
       "  </tbody>\n",
       "</table>\n",
       "<p>62043 rows × 4 columns</p>\n",
       "</div>"
      ],
      "text/plain": [
       "       FLIGHT_COUNT  SEG_KM_SUM  avg_discount  LAST_TO_END\n",
       "0               210      580717      0.961639            1\n",
       "1               140      293678      1.252314            7\n",
       "2               135      283712      1.254676           11\n",
       "3                23      281336      1.090870           97\n",
       "4               152      309928      0.970658            5\n",
       "...             ...         ...           ...          ...\n",
       "62038             2         368      0.710000           89\n",
       "62039             2         368      0.670000          121\n",
       "62040             2        1062      0.225000           39\n",
       "62041             2         904      0.250000          464\n",
       "62042             2         760      0.280000          282\n",
       "\n",
       "[62043 rows x 4 columns]"
      ]
     },
     "execution_count": 83,
     "metadata": {},
     "output_type": "execute_result"
    }
   ],
   "source": [
    "df_lrfmc = df[feat]\n",
    "df_lrfmc"
   ]
  },
  {
   "cell_type": "code",
   "execution_count": 84,
   "metadata": {
    "ExecuteTime": {
     "end_time": "2021-06-09T10:22:22.708477Z",
     "start_time": "2021-06-09T10:22:22.407346Z"
    }
   },
   "outputs": [
    {
     "name": "stderr",
     "output_type": "stream",
     "text": [
      "<ipython-input-84-4af8851e0069>:1: SettingWithCopyWarning: \n",
      "A value is trying to be set on a copy of a slice from a DataFrame.\n",
      "Try using .loc[row_indexer,col_indexer] = value instead\n",
      "\n",
      "See the caveats in the documentation: https://pandas.pydata.org/pandas-docs/stable/user_guide/indexing.html#returning-a-view-versus-a-copy\n",
      "  df_lrfmc['L'] = L\n"
     ]
    },
    {
     "data": {
      "text/html": [
       "<div>\n",
       "<style scoped>\n",
       "    .dataframe tbody tr th:only-of-type {\n",
       "        vertical-align: middle;\n",
       "    }\n",
       "\n",
       "    .dataframe tbody tr th {\n",
       "        vertical-align: top;\n",
       "    }\n",
       "\n",
       "    .dataframe thead th {\n",
       "        text-align: right;\n",
       "    }\n",
       "</style>\n",
       "<table border=\"1\" class=\"dataframe\">\n",
       "  <thead>\n",
       "    <tr style=\"text-align: right;\">\n",
       "      <th></th>\n",
       "      <th>FLIGHT_COUNT</th>\n",
       "      <th>SEG_KM_SUM</th>\n",
       "      <th>avg_discount</th>\n",
       "      <th>LAST_TO_END</th>\n",
       "      <th>L</th>\n",
       "    </tr>\n",
       "  </thead>\n",
       "  <tbody>\n",
       "    <tr>\n",
       "      <th>0</th>\n",
       "      <td>210</td>\n",
       "      <td>580717</td>\n",
       "      <td>0.961639</td>\n",
       "      <td>1</td>\n",
       "      <td>2706</td>\n",
       "    </tr>\n",
       "    <tr>\n",
       "      <th>1</th>\n",
       "      <td>140</td>\n",
       "      <td>293678</td>\n",
       "      <td>1.252314</td>\n",
       "      <td>7</td>\n",
       "      <td>2597</td>\n",
       "    </tr>\n",
       "    <tr>\n",
       "      <th>2</th>\n",
       "      <td>135</td>\n",
       "      <td>283712</td>\n",
       "      <td>1.254676</td>\n",
       "      <td>11</td>\n",
       "      <td>2615</td>\n",
       "    </tr>\n",
       "    <tr>\n",
       "      <th>3</th>\n",
       "      <td>23</td>\n",
       "      <td>281336</td>\n",
       "      <td>1.090870</td>\n",
       "      <td>97</td>\n",
       "      <td>2047</td>\n",
       "    </tr>\n",
       "    <tr>\n",
       "      <th>4</th>\n",
       "      <td>152</td>\n",
       "      <td>309928</td>\n",
       "      <td>0.970658</td>\n",
       "      <td>5</td>\n",
       "      <td>1816</td>\n",
       "    </tr>\n",
       "    <tr>\n",
       "      <th>...</th>\n",
       "      <td>...</td>\n",
       "      <td>...</td>\n",
       "      <td>...</td>\n",
       "      <td>...</td>\n",
       "      <td>...</td>\n",
       "    </tr>\n",
       "    <tr>\n",
       "      <th>62038</th>\n",
       "      <td>2</td>\n",
       "      <td>368</td>\n",
       "      <td>0.710000</td>\n",
       "      <td>89</td>\n",
       "      <td>3249</td>\n",
       "    </tr>\n",
       "    <tr>\n",
       "      <th>62039</th>\n",
       "      <td>2</td>\n",
       "      <td>368</td>\n",
       "      <td>0.670000</td>\n",
       "      <td>121</td>\n",
       "      <td>1961</td>\n",
       "    </tr>\n",
       "    <tr>\n",
       "      <th>62040</th>\n",
       "      <td>2</td>\n",
       "      <td>1062</td>\n",
       "      <td>0.225000</td>\n",
       "      <td>39</td>\n",
       "      <td>1362</td>\n",
       "    </tr>\n",
       "    <tr>\n",
       "      <th>62041</th>\n",
       "      <td>2</td>\n",
       "      <td>904</td>\n",
       "      <td>0.250000</td>\n",
       "      <td>464</td>\n",
       "      <td>466</td>\n",
       "    </tr>\n",
       "    <tr>\n",
       "      <th>62042</th>\n",
       "      <td>2</td>\n",
       "      <td>760</td>\n",
       "      <td>0.280000</td>\n",
       "      <td>282</td>\n",
       "      <td>1082</td>\n",
       "    </tr>\n",
       "  </tbody>\n",
       "</table>\n",
       "<p>62043 rows × 5 columns</p>\n",
       "</div>"
      ],
      "text/plain": [
       "       FLIGHT_COUNT  SEG_KM_SUM  avg_discount  LAST_TO_END     L\n",
       "0               210      580717      0.961639            1  2706\n",
       "1               140      293678      1.252314            7  2597\n",
       "2               135      283712      1.254676           11  2615\n",
       "3                23      281336      1.090870           97  2047\n",
       "4               152      309928      0.970658            5  1816\n",
       "...             ...         ...           ...          ...   ...\n",
       "62038             2         368      0.710000           89  3249\n",
       "62039             2         368      0.670000          121  1961\n",
       "62040             2        1062      0.225000           39  1362\n",
       "62041             2         904      0.250000          464   466\n",
       "62042             2         760      0.280000          282  1082\n",
       "\n",
       "[62043 rows x 5 columns]"
      ]
     },
     "execution_count": 84,
     "metadata": {},
     "output_type": "execute_result"
    }
   ],
   "source": [
    "df_lrfmc['L'] = L\n",
    "df_lrfmc"
   ]
  },
  {
   "cell_type": "code",
   "execution_count": 85,
   "metadata": {
    "ExecuteTime": {
     "end_time": "2021-06-09T10:22:22.893692Z",
     "start_time": "2021-06-09T10:22:22.719447Z"
    }
   },
   "outputs": [
    {
     "name": "stderr",
     "output_type": "stream",
     "text": [
      "d:\\python3.8\\lib\\site-packages\\pandas\\core\\frame.py:4300: SettingWithCopyWarning: \n",
      "A value is trying to be set on a copy of a slice from a DataFrame\n",
      "\n",
      "See the caveats in the documentation: https://pandas.pydata.org/pandas-docs/stable/user_guide/indexing.html#returning-a-view-versus-a-copy\n",
      "  return super().rename(\n"
     ]
    }
   ],
   "source": [
    "df_lrfmc.rename(columns={'LAST_TO_END':'R',\n",
    "                 'FLIGHT_COUNT':'F',\n",
    "                 'SEG_KM_SUM':'M',\n",
    "                 'avg_discount':'C'},inplace=True)"
   ]
  },
  {
   "cell_type": "markdown",
   "metadata": {},
   "source": [
    "数据变换  将数据处理成能带入算法模型的格式"
   ]
  },
  {
   "cell_type": "code",
   "execution_count": 86,
   "metadata": {
    "ExecuteTime": {
     "end_time": "2021-06-09T10:22:23.109118Z",
     "start_time": "2021-06-09T10:22:22.901671Z"
    }
   },
   "outputs": [
    {
     "name": "stdout",
     "output_type": "stream",
     "text": [
      "<class 'pandas.core.frame.DataFrame'>\n",
      "RangeIndex: 62043 entries, 0 to 62042\n",
      "Data columns (total 5 columns):\n",
      " #   Column  Non-Null Count  Dtype  \n",
      "---  ------  --------------  -----  \n",
      " 0   F       62043 non-null  int64  \n",
      " 1   M       62043 non-null  int64  \n",
      " 2   C       62043 non-null  float64\n",
      " 3   R       62043 non-null  int64  \n",
      " 4   L       62043 non-null  object \n",
      "dtypes: float64(1), int64(3), object(1)\n",
      "memory usage: 2.4+ MB\n"
     ]
    }
   ],
   "source": [
    " df_lrfmc.info()"
   ]
  },
  {
   "cell_type": "code",
   "execution_count": 87,
   "metadata": {
    "ExecuteTime": {
     "end_time": "2021-06-09T10:22:23.238530Z",
     "start_time": "2021-06-09T10:22:23.112108Z"
    }
   },
   "outputs": [
    {
     "name": "stderr",
     "output_type": "stream",
     "text": [
      "<ipython-input-87-37f4c12d7f59>:1: SettingWithCopyWarning: \n",
      "A value is trying to be set on a copy of a slice from a DataFrame.\n",
      "Try using .loc[row_indexer,col_indexer] = value instead\n",
      "\n",
      "See the caveats in the documentation: https://pandas.pydata.org/pandas-docs/stable/user_guide/indexing.html#returning-a-view-versus-a-copy\n",
      "  df_lrfmc['L'] = (df_lrfmc['L'].astype(int)/30)\n"
     ]
    }
   ],
   "source": [
    "df_lrfmc['L'] = (df_lrfmc['L'].astype(int)/30)"
   ]
  },
  {
   "cell_type": "code",
   "execution_count": 88,
   "metadata": {
    "ExecuteTime": {
     "end_time": "2021-06-09T10:22:23.379027Z",
     "start_time": "2021-06-09T10:22:23.242505Z"
    }
   },
   "outputs": [
    {
     "data": {
      "text/html": [
       "<div>\n",
       "<style scoped>\n",
       "    .dataframe tbody tr th:only-of-type {\n",
       "        vertical-align: middle;\n",
       "    }\n",
       "\n",
       "    .dataframe tbody tr th {\n",
       "        vertical-align: top;\n",
       "    }\n",
       "\n",
       "    .dataframe thead th {\n",
       "        text-align: right;\n",
       "    }\n",
       "</style>\n",
       "<table border=\"1\" class=\"dataframe\">\n",
       "  <thead>\n",
       "    <tr style=\"text-align: right;\">\n",
       "      <th></th>\n",
       "      <th>F</th>\n",
       "      <th>M</th>\n",
       "      <th>C</th>\n",
       "      <th>R</th>\n",
       "      <th>L</th>\n",
       "    </tr>\n",
       "  </thead>\n",
       "  <tbody>\n",
       "    <tr>\n",
       "      <th>0</th>\n",
       "      <td>210</td>\n",
       "      <td>580717</td>\n",
       "      <td>0.961639</td>\n",
       "      <td>1</td>\n",
       "      <td>90.200000</td>\n",
       "    </tr>\n",
       "    <tr>\n",
       "      <th>1</th>\n",
       "      <td>140</td>\n",
       "      <td>293678</td>\n",
       "      <td>1.252314</td>\n",
       "      <td>7</td>\n",
       "      <td>86.566667</td>\n",
       "    </tr>\n",
       "    <tr>\n",
       "      <th>2</th>\n",
       "      <td>135</td>\n",
       "      <td>283712</td>\n",
       "      <td>1.254676</td>\n",
       "      <td>11</td>\n",
       "      <td>87.166667</td>\n",
       "    </tr>\n",
       "    <tr>\n",
       "      <th>3</th>\n",
       "      <td>23</td>\n",
       "      <td>281336</td>\n",
       "      <td>1.090870</td>\n",
       "      <td>97</td>\n",
       "      <td>68.233333</td>\n",
       "    </tr>\n",
       "    <tr>\n",
       "      <th>4</th>\n",
       "      <td>152</td>\n",
       "      <td>309928</td>\n",
       "      <td>0.970658</td>\n",
       "      <td>5</td>\n",
       "      <td>60.533333</td>\n",
       "    </tr>\n",
       "    <tr>\n",
       "      <th>...</th>\n",
       "      <td>...</td>\n",
       "      <td>...</td>\n",
       "      <td>...</td>\n",
       "      <td>...</td>\n",
       "      <td>...</td>\n",
       "    </tr>\n",
       "    <tr>\n",
       "      <th>62038</th>\n",
       "      <td>2</td>\n",
       "      <td>368</td>\n",
       "      <td>0.710000</td>\n",
       "      <td>89</td>\n",
       "      <td>108.300000</td>\n",
       "    </tr>\n",
       "    <tr>\n",
       "      <th>62039</th>\n",
       "      <td>2</td>\n",
       "      <td>368</td>\n",
       "      <td>0.670000</td>\n",
       "      <td>121</td>\n",
       "      <td>65.366667</td>\n",
       "    </tr>\n",
       "    <tr>\n",
       "      <th>62040</th>\n",
       "      <td>2</td>\n",
       "      <td>1062</td>\n",
       "      <td>0.225000</td>\n",
       "      <td>39</td>\n",
       "      <td>45.400000</td>\n",
       "    </tr>\n",
       "    <tr>\n",
       "      <th>62041</th>\n",
       "      <td>2</td>\n",
       "      <td>904</td>\n",
       "      <td>0.250000</td>\n",
       "      <td>464</td>\n",
       "      <td>15.533333</td>\n",
       "    </tr>\n",
       "    <tr>\n",
       "      <th>62042</th>\n",
       "      <td>2</td>\n",
       "      <td>760</td>\n",
       "      <td>0.280000</td>\n",
       "      <td>282</td>\n",
       "      <td>36.066667</td>\n",
       "    </tr>\n",
       "  </tbody>\n",
       "</table>\n",
       "<p>62043 rows × 5 columns</p>\n",
       "</div>"
      ],
      "text/plain": [
       "         F       M         C    R           L\n",
       "0      210  580717  0.961639    1   90.200000\n",
       "1      140  293678  1.252314    7   86.566667\n",
       "2      135  283712  1.254676   11   87.166667\n",
       "3       23  281336  1.090870   97   68.233333\n",
       "4      152  309928  0.970658    5   60.533333\n",
       "...    ...     ...       ...  ...         ...\n",
       "62038    2     368  0.710000   89  108.300000\n",
       "62039    2     368  0.670000  121   65.366667\n",
       "62040    2    1062  0.225000   39   45.400000\n",
       "62041    2     904  0.250000  464   15.533333\n",
       "62042    2     760  0.280000  282   36.066667\n",
       "\n",
       "[62043 rows x 5 columns]"
      ]
     },
     "execution_count": 88,
     "metadata": {},
     "output_type": "execute_result"
    }
   ],
   "source": [
    "df_lrfmc"
   ]
  },
  {
   "cell_type": "code",
   "execution_count": 90,
   "metadata": {
    "ExecuteTime": {
     "end_time": "2021-06-09T10:26:43.010506Z",
     "start_time": "2021-06-09T10:26:42.993552Z"
    }
   },
   "outputs": [],
   "source": [
    "def standscaler(data):\n",
    "    \n",
    "    return (data - data.mean())/ data.std()\n"
   ]
  },
  {
   "cell_type": "code",
   "execution_count": 92,
   "metadata": {
    "ExecuteTime": {
     "end_time": "2021-06-09T10:27:14.677482Z",
     "start_time": "2021-06-09T10:27:14.627614Z"
    }
   },
   "outputs": [
    {
     "data": {
      "text/html": [
       "<div>\n",
       "<style scoped>\n",
       "    .dataframe tbody tr th:only-of-type {\n",
       "        vertical-align: middle;\n",
       "    }\n",
       "\n",
       "    .dataframe tbody tr th {\n",
       "        vertical-align: top;\n",
       "    }\n",
       "\n",
       "    .dataframe thead th {\n",
       "        text-align: right;\n",
       "    }\n",
       "</style>\n",
       "<table border=\"1\" class=\"dataframe\">\n",
       "  <thead>\n",
       "    <tr style=\"text-align: right;\">\n",
       "      <th></th>\n",
       "      <th>F</th>\n",
       "      <th>M</th>\n",
       "      <th>C</th>\n",
       "      <th>R</th>\n",
       "      <th>L</th>\n",
       "    </tr>\n",
       "  </thead>\n",
       "  <tbody>\n",
       "    <tr>\n",
       "      <th>0</th>\n",
       "      <td>14.033911</td>\n",
       "      <td>26.760941</td>\n",
       "      <td>1.295531</td>\n",
       "      <td>-0.944931</td>\n",
       "      <td>1.435781</td>\n",
       "    </tr>\n",
       "    <tr>\n",
       "      <th>1</th>\n",
       "      <td>9.073143</td>\n",
       "      <td>13.126759</td>\n",
       "      <td>2.868155</td>\n",
       "      <td>-0.911878</td>\n",
       "      <td>1.307222</td>\n",
       "    </tr>\n",
       "    <tr>\n",
       "      <th>2</th>\n",
       "      <td>8.718802</td>\n",
       "      <td>12.653379</td>\n",
       "      <td>2.880929</td>\n",
       "      <td>-0.889843</td>\n",
       "      <td>1.328452</td>\n",
       "    </tr>\n",
       "    <tr>\n",
       "      <th>3</th>\n",
       "      <td>0.781573</td>\n",
       "      <td>12.540521</td>\n",
       "      <td>1.994699</td>\n",
       "      <td>-0.416082</td>\n",
       "      <td>0.658528</td>\n",
       "    </tr>\n",
       "    <tr>\n",
       "      <th>4</th>\n",
       "      <td>9.923560</td>\n",
       "      <td>13.898624</td>\n",
       "      <td>1.344326</td>\n",
       "      <td>-0.922896</td>\n",
       "      <td>0.386076</td>\n",
       "    </tr>\n",
       "    <tr>\n",
       "      <th>...</th>\n",
       "      <td>...</td>\n",
       "      <td>...</td>\n",
       "      <td>...</td>\n",
       "      <td>...</td>\n",
       "      <td>...</td>\n",
       "    </tr>\n",
       "    <tr>\n",
       "      <th>62038</th>\n",
       "      <td>-0.706657</td>\n",
       "      <td>-0.805293</td>\n",
       "      <td>-0.065896</td>\n",
       "      <td>-0.460152</td>\n",
       "      <td>2.076219</td>\n",
       "    </tr>\n",
       "    <tr>\n",
       "      <th>62039</th>\n",
       "      <td>-0.706657</td>\n",
       "      <td>-0.805293</td>\n",
       "      <td>-0.282305</td>\n",
       "      <td>-0.283869</td>\n",
       "      <td>0.557096</td>\n",
       "    </tr>\n",
       "    <tr>\n",
       "      <th>62040</th>\n",
       "      <td>-0.706657</td>\n",
       "      <td>-0.772328</td>\n",
       "      <td>-2.689861</td>\n",
       "      <td>-0.735595</td>\n",
       "      <td>-0.149391</td>\n",
       "    </tr>\n",
       "    <tr>\n",
       "      <th>62041</th>\n",
       "      <td>-0.706657</td>\n",
       "      <td>-0.779833</td>\n",
       "      <td>-2.554605</td>\n",
       "      <td>1.605667</td>\n",
       "      <td>-1.206172</td>\n",
       "    </tr>\n",
       "    <tr>\n",
       "      <th>62042</th>\n",
       "      <td>-0.706657</td>\n",
       "      <td>-0.786673</td>\n",
       "      <td>-2.392298</td>\n",
       "      <td>0.603056</td>\n",
       "      <td>-0.479635</td>\n",
       "    </tr>\n",
       "  </tbody>\n",
       "</table>\n",
       "<p>62043 rows × 5 columns</p>\n",
       "</div>"
      ],
      "text/plain": [
       "               F          M         C         R         L\n",
       "0      14.033911  26.760941  1.295531 -0.944931  1.435781\n",
       "1       9.073143  13.126759  2.868155 -0.911878  1.307222\n",
       "2       8.718802  12.653379  2.880929 -0.889843  1.328452\n",
       "3       0.781573  12.540521  1.994699 -0.416082  0.658528\n",
       "4       9.923560  13.898624  1.344326 -0.922896  0.386076\n",
       "...          ...        ...       ...       ...       ...\n",
       "62038  -0.706657  -0.805293 -0.065896 -0.460152  2.076219\n",
       "62039  -0.706657  -0.805293 -0.282305 -0.283869  0.557096\n",
       "62040  -0.706657  -0.772328 -2.689861 -0.735595 -0.149391\n",
       "62041  -0.706657  -0.779833 -2.554605  1.605667 -1.206172\n",
       "62042  -0.706657  -0.786673 -2.392298  0.603056 -0.479635\n",
       "\n",
       "[62043 rows x 5 columns]"
      ]
     },
     "execution_count": 92,
     "metadata": {},
     "output_type": "execute_result"
    }
   ],
   "source": [
    "df_lrfmc_ss = df_lrfmc.apply(standscaler)\n",
    "df_lrfmc_ss"
   ]
  },
  {
   "cell_type": "code",
   "execution_count": 93,
   "metadata": {
    "ExecuteTime": {
     "end_time": "2021-06-09T10:30:54.136690Z",
     "start_time": "2021-06-09T10:30:52.608137Z"
    }
   },
   "outputs": [],
   "source": [
    "df_lrfmc_ss.to_csv('lrfmc_ss.csv',index=False)"
   ]
  },
  {
   "cell_type": "code",
   "execution_count": null,
   "metadata": {},
   "outputs": [],
   "source": []
  },
  {
   "cell_type": "code",
   "execution_count": null,
   "metadata": {},
   "outputs": [],
   "source": []
  },
  {
   "cell_type": "code",
   "execution_count": null,
   "metadata": {},
   "outputs": [],
   "source": []
  },
  {
   "cell_type": "code",
   "execution_count": null,
   "metadata": {},
   "outputs": [],
   "source": []
  },
  {
   "cell_type": "code",
   "execution_count": null,
   "metadata": {},
   "outputs": [],
   "source": []
  },
  {
   "cell_type": "code",
   "execution_count": null,
   "metadata": {},
   "outputs": [],
   "source": []
  }
 ],
 "metadata": {
  "kernelspec": {
   "display_name": "Python 3",
   "language": "python",
   "name": "python3"
  },
  "language_info": {
   "codemirror_mode": {
    "name": "ipython",
    "version": 3
   },
   "file_extension": ".py",
   "mimetype": "text/x-python",
   "name": "python",
   "nbconvert_exporter": "python",
   "pygments_lexer": "ipython3",
   "version": "3.8.5"
  }
 },
 "nbformat": 4,
 "nbformat_minor": 4
}
