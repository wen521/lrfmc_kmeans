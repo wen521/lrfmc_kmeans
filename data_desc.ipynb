{
 "cells": [
  {
   "cell_type": "code",
   "execution_count": 163,
   "metadata": {
    "ExecuteTime": {
     "end_time": "2021-06-09T07:02:58.288291Z",
     "start_time": "2021-06-09T07:02:58.271337Z"
    }
   },
   "outputs": [],
   "source": [
    "import pandas as pd\n",
    "import numpy as np\n",
    "import matplotlib.pyplot as plt\n",
    "import seaborn as sns\n",
    "%matplotlib inline\n",
    "plt.style.use('ggplot')"
   ]
  },
  {
   "cell_type": "code",
   "execution_count": 164,
   "metadata": {
    "ExecuteTime": {
     "end_time": "2021-06-09T07:02:59.364210Z",
     "start_time": "2021-06-09T07:02:58.292297Z"
    }
   },
   "outputs": [
    {
     "data": {
      "text/html": [
       "<div>\n",
       "<style scoped>\n",
       "    .dataframe tbody tr th:only-of-type {\n",
       "        vertical-align: middle;\n",
       "    }\n",
       "\n",
       "    .dataframe tbody tr th {\n",
       "        vertical-align: top;\n",
       "    }\n",
       "\n",
       "    .dataframe thead th {\n",
       "        text-align: right;\n",
       "    }\n",
       "</style>\n",
       "<table border=\"1\" class=\"dataframe\">\n",
       "  <thead>\n",
       "    <tr style=\"text-align: right;\">\n",
       "      <th></th>\n",
       "      <th>MEMBER_NO</th>\n",
       "      <th>FFP_DATE</th>\n",
       "      <th>FIRST_FLIGHT_DATE</th>\n",
       "      <th>GENDER</th>\n",
       "      <th>FFP_TIER</th>\n",
       "      <th>WORK_CITY</th>\n",
       "      <th>WORK_PROVINCE</th>\n",
       "      <th>WORK_COUNTRY</th>\n",
       "      <th>AGE</th>\n",
       "      <th>LOAD_TIME</th>\n",
       "      <th>...</th>\n",
       "      <th>ADD_Point_SUM</th>\n",
       "      <th>Eli_Add_Point_Sum</th>\n",
       "      <th>L1Y_ELi_Add_Points</th>\n",
       "      <th>Points_Sum</th>\n",
       "      <th>L1Y_Points_Sum</th>\n",
       "      <th>Ration_L1Y_Flight_Count</th>\n",
       "      <th>Ration_P1Y_Flight_Count</th>\n",
       "      <th>Ration_P1Y_BPS</th>\n",
       "      <th>Ration_L1Y_BPS</th>\n",
       "      <th>Point_NotFlight</th>\n",
       "    </tr>\n",
       "  </thead>\n",
       "  <tbody>\n",
       "    <tr>\n",
       "      <th>0</th>\n",
       "      <td>54993</td>\n",
       "      <td>2006/11/2</td>\n",
       "      <td>2008/12/24</td>\n",
       "      <td>男</td>\n",
       "      <td>6</td>\n",
       "      <td>.</td>\n",
       "      <td>北京</td>\n",
       "      <td>CN</td>\n",
       "      <td>31.0</td>\n",
       "      <td>2014/3/31</td>\n",
       "      <td>...</td>\n",
       "      <td>39992</td>\n",
       "      <td>114452</td>\n",
       "      <td>111100</td>\n",
       "      <td>619760</td>\n",
       "      <td>370211</td>\n",
       "      <td>0.509524</td>\n",
       "      <td>0.490476</td>\n",
       "      <td>0.487221</td>\n",
       "      <td>0.512777</td>\n",
       "      <td>50</td>\n",
       "    </tr>\n",
       "    <tr>\n",
       "      <th>1</th>\n",
       "      <td>28065</td>\n",
       "      <td>2007/2/19</td>\n",
       "      <td>2007/8/3</td>\n",
       "      <td>男</td>\n",
       "      <td>6</td>\n",
       "      <td>NaN</td>\n",
       "      <td>北京</td>\n",
       "      <td>CN</td>\n",
       "      <td>42.0</td>\n",
       "      <td>2014/3/31</td>\n",
       "      <td>...</td>\n",
       "      <td>12000</td>\n",
       "      <td>53288</td>\n",
       "      <td>53288</td>\n",
       "      <td>415768</td>\n",
       "      <td>238410</td>\n",
       "      <td>0.514286</td>\n",
       "      <td>0.485714</td>\n",
       "      <td>0.489289</td>\n",
       "      <td>0.510708</td>\n",
       "      <td>33</td>\n",
       "    </tr>\n",
       "    <tr>\n",
       "      <th>2</th>\n",
       "      <td>55106</td>\n",
       "      <td>2007/2/1</td>\n",
       "      <td>2007/8/30</td>\n",
       "      <td>男</td>\n",
       "      <td>6</td>\n",
       "      <td>.</td>\n",
       "      <td>北京</td>\n",
       "      <td>CN</td>\n",
       "      <td>40.0</td>\n",
       "      <td>2014/3/31</td>\n",
       "      <td>...</td>\n",
       "      <td>15491</td>\n",
       "      <td>55202</td>\n",
       "      <td>51711</td>\n",
       "      <td>406361</td>\n",
       "      <td>233798</td>\n",
       "      <td>0.518519</td>\n",
       "      <td>0.481481</td>\n",
       "      <td>0.481467</td>\n",
       "      <td>0.518530</td>\n",
       "      <td>26</td>\n",
       "    </tr>\n",
       "    <tr>\n",
       "      <th>3</th>\n",
       "      <td>21189</td>\n",
       "      <td>2008/8/22</td>\n",
       "      <td>2008/8/23</td>\n",
       "      <td>男</td>\n",
       "      <td>5</td>\n",
       "      <td>Los Angeles</td>\n",
       "      <td>CA</td>\n",
       "      <td>US</td>\n",
       "      <td>64.0</td>\n",
       "      <td>2014/3/31</td>\n",
       "      <td>...</td>\n",
       "      <td>0</td>\n",
       "      <td>34890</td>\n",
       "      <td>34890</td>\n",
       "      <td>372204</td>\n",
       "      <td>186100</td>\n",
       "      <td>0.434783</td>\n",
       "      <td>0.565217</td>\n",
       "      <td>0.551722</td>\n",
       "      <td>0.448275</td>\n",
       "      <td>12</td>\n",
       "    </tr>\n",
       "    <tr>\n",
       "      <th>4</th>\n",
       "      <td>39546</td>\n",
       "      <td>2009/4/10</td>\n",
       "      <td>2009/4/15</td>\n",
       "      <td>男</td>\n",
       "      <td>6</td>\n",
       "      <td>贵阳</td>\n",
       "      <td>贵州</td>\n",
       "      <td>CN</td>\n",
       "      <td>48.0</td>\n",
       "      <td>2014/3/31</td>\n",
       "      <td>...</td>\n",
       "      <td>22704</td>\n",
       "      <td>64969</td>\n",
       "      <td>64969</td>\n",
       "      <td>338813</td>\n",
       "      <td>210365</td>\n",
       "      <td>0.532895</td>\n",
       "      <td>0.467105</td>\n",
       "      <td>0.469054</td>\n",
       "      <td>0.530943</td>\n",
       "      <td>39</td>\n",
       "    </tr>\n",
       "    <tr>\n",
       "      <th>...</th>\n",
       "      <td>...</td>\n",
       "      <td>...</td>\n",
       "      <td>...</td>\n",
       "      <td>...</td>\n",
       "      <td>...</td>\n",
       "      <td>...</td>\n",
       "      <td>...</td>\n",
       "      <td>...</td>\n",
       "      <td>...</td>\n",
       "      <td>...</td>\n",
       "      <td>...</td>\n",
       "      <td>...</td>\n",
       "      <td>...</td>\n",
       "      <td>...</td>\n",
       "      <td>...</td>\n",
       "      <td>...</td>\n",
       "      <td>...</td>\n",
       "      <td>...</td>\n",
       "      <td>...</td>\n",
       "      <td>...</td>\n",
       "      <td>...</td>\n",
       "    </tr>\n",
       "    <tr>\n",
       "      <th>62983</th>\n",
       "      <td>18375</td>\n",
       "      <td>2011/5/20</td>\n",
       "      <td>2013/6/5</td>\n",
       "      <td>女</td>\n",
       "      <td>4</td>\n",
       "      <td>广州</td>\n",
       "      <td>广东</td>\n",
       "      <td>CN</td>\n",
       "      <td>25.0</td>\n",
       "      <td>2014/3/31</td>\n",
       "      <td>...</td>\n",
       "      <td>12318</td>\n",
       "      <td>12318</td>\n",
       "      <td>12123</td>\n",
       "      <td>12318</td>\n",
       "      <td>12123</td>\n",
       "      <td>1.000000</td>\n",
       "      <td>0.000000</td>\n",
       "      <td>0.000000</td>\n",
       "      <td>0.000000</td>\n",
       "      <td>22</td>\n",
       "    </tr>\n",
       "    <tr>\n",
       "      <th>62984</th>\n",
       "      <td>36041</td>\n",
       "      <td>2010/3/8</td>\n",
       "      <td>2013/9/14</td>\n",
       "      <td>男</td>\n",
       "      <td>4</td>\n",
       "      <td>佛山</td>\n",
       "      <td>广东</td>\n",
       "      <td>CN</td>\n",
       "      <td>38.0</td>\n",
       "      <td>2014/3/31</td>\n",
       "      <td>...</td>\n",
       "      <td>106972</td>\n",
       "      <td>106972</td>\n",
       "      <td>56506</td>\n",
       "      <td>106972</td>\n",
       "      <td>56506</td>\n",
       "      <td>1.000000</td>\n",
       "      <td>0.000000</td>\n",
       "      <td>0.000000</td>\n",
       "      <td>0.000000</td>\n",
       "      <td>43</td>\n",
       "    </tr>\n",
       "    <tr>\n",
       "      <th>62985</th>\n",
       "      <td>45690</td>\n",
       "      <td>2006/3/30</td>\n",
       "      <td>2006/12/2</td>\n",
       "      <td>女</td>\n",
       "      <td>4</td>\n",
       "      <td>广州</td>\n",
       "      <td>广东</td>\n",
       "      <td>CN</td>\n",
       "      <td>43.0</td>\n",
       "      <td>2014/3/31</td>\n",
       "      <td>...</td>\n",
       "      <td>0</td>\n",
       "      <td>0</td>\n",
       "      <td>0</td>\n",
       "      <td>0</td>\n",
       "      <td>0</td>\n",
       "      <td>1.000000</td>\n",
       "      <td>0.000000</td>\n",
       "      <td>0.000000</td>\n",
       "      <td>0.000000</td>\n",
       "      <td>0</td>\n",
       "    </tr>\n",
       "    <tr>\n",
       "      <th>62986</th>\n",
       "      <td>61027</td>\n",
       "      <td>2013/2/6</td>\n",
       "      <td>2013/2/14</td>\n",
       "      <td>女</td>\n",
       "      <td>4</td>\n",
       "      <td>广州</td>\n",
       "      <td>广东</td>\n",
       "      <td>CN</td>\n",
       "      <td>36.0</td>\n",
       "      <td>2014/3/31</td>\n",
       "      <td>...</td>\n",
       "      <td>0</td>\n",
       "      <td>0</td>\n",
       "      <td>0</td>\n",
       "      <td>0</td>\n",
       "      <td>0</td>\n",
       "      <td>0.000000</td>\n",
       "      <td>1.000000</td>\n",
       "      <td>0.000000</td>\n",
       "      <td>0.000000</td>\n",
       "      <td>0</td>\n",
       "    </tr>\n",
       "    <tr>\n",
       "      <th>62987</th>\n",
       "      <td>61340</td>\n",
       "      <td>2013/2/17</td>\n",
       "      <td>2013/2/17</td>\n",
       "      <td>女</td>\n",
       "      <td>4</td>\n",
       "      <td>上海</td>\n",
       "      <td>.</td>\n",
       "      <td>CN</td>\n",
       "      <td>29.0</td>\n",
       "      <td>2014/3/31</td>\n",
       "      <td>...</td>\n",
       "      <td>0</td>\n",
       "      <td>0</td>\n",
       "      <td>0</td>\n",
       "      <td>0</td>\n",
       "      <td>0</td>\n",
       "      <td>0.000000</td>\n",
       "      <td>1.000000</td>\n",
       "      <td>0.000000</td>\n",
       "      <td>0.000000</td>\n",
       "      <td>0</td>\n",
       "    </tr>\n",
       "  </tbody>\n",
       "</table>\n",
       "<p>62988 rows × 44 columns</p>\n",
       "</div>"
      ],
      "text/plain": [
       "       MEMBER_NO   FFP_DATE FIRST_FLIGHT_DATE GENDER  FFP_TIER    WORK_CITY  \\\n",
       "0          54993  2006/11/2        2008/12/24      男         6            .   \n",
       "1          28065  2007/2/19          2007/8/3      男         6          NaN   \n",
       "2          55106   2007/2/1         2007/8/30      男         6            .   \n",
       "3          21189  2008/8/22         2008/8/23      男         5  Los Angeles   \n",
       "4          39546  2009/4/10         2009/4/15      男         6           贵阳   \n",
       "...          ...        ...               ...    ...       ...          ...   \n",
       "62983      18375  2011/5/20          2013/6/5      女         4           广州   \n",
       "62984      36041   2010/3/8         2013/9/14      男         4           佛山   \n",
       "62985      45690  2006/3/30         2006/12/2      女         4           广州   \n",
       "62986      61027   2013/2/6         2013/2/14      女         4           广州   \n",
       "62987      61340  2013/2/17         2013/2/17      女         4           上海   \n",
       "\n",
       "      WORK_PROVINCE WORK_COUNTRY   AGE  LOAD_TIME  ...  ADD_Point_SUM  \\\n",
       "0                北京           CN  31.0  2014/3/31  ...          39992   \n",
       "1                北京           CN  42.0  2014/3/31  ...          12000   \n",
       "2                北京           CN  40.0  2014/3/31  ...          15491   \n",
       "3                CA           US  64.0  2014/3/31  ...              0   \n",
       "4                贵州           CN  48.0  2014/3/31  ...          22704   \n",
       "...             ...          ...   ...        ...  ...            ...   \n",
       "62983            广东           CN  25.0  2014/3/31  ...          12318   \n",
       "62984            广东           CN  38.0  2014/3/31  ...         106972   \n",
       "62985            广东           CN  43.0  2014/3/31  ...              0   \n",
       "62986            广东           CN  36.0  2014/3/31  ...              0   \n",
       "62987             .           CN  29.0  2014/3/31  ...              0   \n",
       "\n",
       "       Eli_Add_Point_Sum  L1Y_ELi_Add_Points  Points_Sum  L1Y_Points_Sum  \\\n",
       "0                 114452              111100      619760          370211   \n",
       "1                  53288               53288      415768          238410   \n",
       "2                  55202               51711      406361          233798   \n",
       "3                  34890               34890      372204          186100   \n",
       "4                  64969               64969      338813          210365   \n",
       "...                  ...                 ...         ...             ...   \n",
       "62983              12318               12123       12318           12123   \n",
       "62984             106972               56506      106972           56506   \n",
       "62985                  0                   0           0               0   \n",
       "62986                  0                   0           0               0   \n",
       "62987                  0                   0           0               0   \n",
       "\n",
       "       Ration_L1Y_Flight_Count  Ration_P1Y_Flight_Count  Ration_P1Y_BPS  \\\n",
       "0                     0.509524                 0.490476        0.487221   \n",
       "1                     0.514286                 0.485714        0.489289   \n",
       "2                     0.518519                 0.481481        0.481467   \n",
       "3                     0.434783                 0.565217        0.551722   \n",
       "4                     0.532895                 0.467105        0.469054   \n",
       "...                        ...                      ...             ...   \n",
       "62983                 1.000000                 0.000000        0.000000   \n",
       "62984                 1.000000                 0.000000        0.000000   \n",
       "62985                 1.000000                 0.000000        0.000000   \n",
       "62986                 0.000000                 1.000000        0.000000   \n",
       "62987                 0.000000                 1.000000        0.000000   \n",
       "\n",
       "      Ration_L1Y_BPS  Point_NotFlight  \n",
       "0           0.512777               50  \n",
       "1           0.510708               33  \n",
       "2           0.518530               26  \n",
       "3           0.448275               12  \n",
       "4           0.530943               39  \n",
       "...              ...              ...  \n",
       "62983       0.000000               22  \n",
       "62984       0.000000               43  \n",
       "62985       0.000000                0  \n",
       "62986       0.000000                0  \n",
       "62987       0.000000                0  \n",
       "\n",
       "[62988 rows x 44 columns]"
      ]
     },
     "execution_count": 164,
     "metadata": {},
     "output_type": "execute_result"
    }
   ],
   "source": [
    "df = pd.read_csv('air_data.csv')\n",
    "df"
   ]
  },
  {
   "cell_type": "code",
   "execution_count": 165,
   "metadata": {
    "ExecuteTime": {
     "end_time": "2021-06-09T07:02:59.483040Z",
     "start_time": "2021-06-09T07:02:59.369191Z"
    }
   },
   "outputs": [
    {
     "name": "stdout",
     "output_type": "stream",
     "text": [
      "<class 'pandas.core.frame.DataFrame'>\n",
      "RangeIndex: 62988 entries, 0 to 62987\n",
      "Data columns (total 44 columns):\n",
      " #   Column                   Non-Null Count  Dtype  \n",
      "---  ------                   --------------  -----  \n",
      " 0   MEMBER_NO                62988 non-null  int64  \n",
      " 1   FFP_DATE                 62988 non-null  object \n",
      " 2   FIRST_FLIGHT_DATE        62988 non-null  object \n",
      " 3   GENDER                   62985 non-null  object \n",
      " 4   FFP_TIER                 62988 non-null  int64  \n",
      " 5   WORK_CITY                60719 non-null  object \n",
      " 6   WORK_PROVINCE            59740 non-null  object \n",
      " 7   WORK_COUNTRY             62962 non-null  object \n",
      " 8   AGE                      62568 non-null  float64\n",
      " 9   LOAD_TIME                62988 non-null  object \n",
      " 10  FLIGHT_COUNT             62988 non-null  int64  \n",
      " 11  BP_SUM                   62988 non-null  int64  \n",
      " 12  EP_SUM_YR_1              62988 non-null  int64  \n",
      " 13  EP_SUM_YR_2              62988 non-null  int64  \n",
      " 14  SUM_YR_1                 62437 non-null  float64\n",
      " 15  SUM_YR_2                 62850 non-null  float64\n",
      " 16  SEG_KM_SUM               62988 non-null  int64  \n",
      " 17  WEIGHTED_SEG_KM          62988 non-null  float64\n",
      " 18  LAST_FLIGHT_DATE         62988 non-null  object \n",
      " 19  AVG_FLIGHT_COUNT         62988 non-null  float64\n",
      " 20  AVG_BP_SUM               62988 non-null  float64\n",
      " 21  BEGIN_TO_FIRST           62988 non-null  int64  \n",
      " 22  LAST_TO_END              62988 non-null  int64  \n",
      " 23  AVG_INTERVAL             62988 non-null  float64\n",
      " 24  MAX_INTERVAL             62988 non-null  int64  \n",
      " 25  ADD_POINTS_SUM_YR_1      62988 non-null  int64  \n",
      " 26  ADD_POINTS_SUM_YR_2      62988 non-null  int64  \n",
      " 27  EXCHANGE_COUNT           62988 non-null  int64  \n",
      " 28  avg_discount             62988 non-null  float64\n",
      " 29  P1Y_Flight_Count         62988 non-null  int64  \n",
      " 30  L1Y_Flight_Count         62988 non-null  int64  \n",
      " 31  P1Y_BP_SUM               62988 non-null  int64  \n",
      " 32  L1Y_BP_SUM               62988 non-null  int64  \n",
      " 33  EP_SUM                   62988 non-null  int64  \n",
      " 34  ADD_Point_SUM            62988 non-null  int64  \n",
      " 35  Eli_Add_Point_Sum        62988 non-null  int64  \n",
      " 36  L1Y_ELi_Add_Points       62988 non-null  int64  \n",
      " 37  Points_Sum               62988 non-null  int64  \n",
      " 38  L1Y_Points_Sum           62988 non-null  int64  \n",
      " 39  Ration_L1Y_Flight_Count  62988 non-null  float64\n",
      " 40  Ration_P1Y_Flight_Count  62988 non-null  float64\n",
      " 41  Ration_P1Y_BPS           62988 non-null  float64\n",
      " 42  Ration_L1Y_BPS           62988 non-null  float64\n",
      " 43  Point_NotFlight          62988 non-null  int64  \n",
      "dtypes: float64(12), int64(24), object(8)\n",
      "memory usage: 21.1+ MB\n"
     ]
    }
   ],
   "source": [
    "df.info()"
   ]
  },
  {
   "cell_type": "code",
   "execution_count": 166,
   "metadata": {
    "ExecuteTime": {
     "end_time": "2021-06-09T07:02:59.579685Z",
     "start_time": "2021-06-09T07:02:59.488921Z"
    }
   },
   "outputs": [
    {
     "data": {
      "text/plain": [
       "36"
      ]
     },
     "execution_count": 166,
     "metadata": {},
     "output_type": "execute_result"
    }
   ],
   "source": [
    "feat_num = [ i for i in df.columns if df[i].dtype != 'object' ]\n",
    "len(feat_num)\n",
    "# df['Ration_P1Y_BPS'].dtype"
   ]
  },
  {
   "cell_type": "code",
   "execution_count": 167,
   "metadata": {
    "ExecuteTime": {
     "end_time": "2021-06-09T07:02:59.840980Z",
     "start_time": "2021-06-09T07:02:59.584667Z"
    }
   },
   "outputs": [
    {
     "name": "stdout",
     "output_type": "stream",
     "text": [
      "MEMBER_NO 列空值个数：0，最大值：62988 ， 最小值：1\n",
      "FFP_TIER 列空值个数：0，最大值：6 ， 最小值：4\n",
      "AGE 列空值个数：420，最大值：110.0 ， 最小值：6.0\n",
      "FLIGHT_COUNT 列空值个数：0，最大值：213 ， 最小值：2\n",
      "BP_SUM 列空值个数：0，最大值：505308 ， 最小值：0\n",
      "EP_SUM_YR_1 列空值个数：0，最大值：0 ， 最小值：0\n",
      "EP_SUM_YR_2 列空值个数：0，最大值：74460 ， 最小值：0\n",
      "SUM_YR_1 列空值个数：551，最大值：239560.0 ， 最小值：0.0\n",
      "SUM_YR_2 列空值个数：138，最大值：234188.0 ， 最小值：0.0\n",
      "SEG_KM_SUM 列空值个数：0，最大值：580717 ， 最小值：368\n",
      "WEIGHTED_SEG_KM 列空值个数：0，最大值：558440.14 ， 最小值：0.0\n",
      "AVG_FLIGHT_COUNT 列空值个数：0，最大值：26.625 ， 最小值：0.25\n",
      "AVG_BP_SUM 列空值个数：0，最大值：63163.5 ， 最小值：0.0\n",
      "BEGIN_TO_FIRST 列空值个数：0，最大值：729 ， 最小值：0\n",
      "LAST_TO_END 列空值个数：0，最大值：731 ， 最小值：1\n",
      "AVG_INTERVAL 列空值个数：0，最大值：728.0 ， 最小值：0.0\n",
      "MAX_INTERVAL 列空值个数：0，最大值：728 ， 最小值：0\n",
      "ADD_POINTS_SUM_YR_1 列空值个数：0，最大值：600000 ， 最小值：0\n",
      "ADD_POINTS_SUM_YR_2 列空值个数：0，最大值：728282 ， 最小值：0\n",
      "EXCHANGE_COUNT 列空值个数：0，最大值：46 ， 最小值：0\n",
      "avg_discount 列空值个数：0，最大值：1.5 ， 最小值：0.0\n",
      "P1Y_Flight_Count 列空值个数：0，最大值：118 ， 最小值：0\n",
      "L1Y_Flight_Count 列空值个数：0，最大值：111 ， 最小值：0\n",
      "P1Y_BP_SUM 列空值个数：0，最大值：246197 ， 最小值：0\n",
      "L1Y_BP_SUM 列空值个数：0，最大值：259111 ， 最小值：0\n",
      "EP_SUM 列空值个数：0，最大值：74460 ， 最小值：0\n",
      "ADD_Point_SUM 列空值个数：0，最大值：984938 ， 最小值：0\n",
      "Eli_Add_Point_Sum 列空值个数：0，最大值：984938 ， 最小值：0\n",
      "L1Y_ELi_Add_Points 列空值个数：0，最大值：728282 ， 最小值：0\n",
      "Points_Sum 列空值个数：0，最大值：985572 ， 最小值：0\n",
      "L1Y_Points_Sum 列空值个数：0，最大值：728282 ， 最小值：0\n",
      "Ration_L1Y_Flight_Count 列空值个数：0，最大值：1.0 ， 最小值：0.0\n",
      "Ration_P1Y_Flight_Count 列空值个数：0，最大值：1.0 ， 最小值：0.0\n",
      "Ration_P1Y_BPS 列空值个数：0，最大值：0.99998861 ， 最小值：0.0\n",
      "Ration_L1Y_BPS 列空值个数：0，最大值：0.999993205 ， 最小值：0.0\n",
      "Point_NotFlight 列空值个数：0，最大值：140 ， 最小值：0\n"
     ]
    }
   ],
   "source": [
    "for i in feat_num:\n",
    "    print('%s 列空值个数：%s，最大值：%s ， 最小值：%s' % (\n",
    "        i, df[i].isnull().sum(),df[i].max(),df[i].min()\n",
    "            )\n",
    "         )"
   ]
  },
  {
   "cell_type": "code",
   "execution_count": 168,
   "metadata": {
    "ExecuteTime": {
     "end_time": "2021-06-09T07:03:00.766542Z",
     "start_time": "2021-06-09T07:02:59.849955Z"
    }
   },
   "outputs": [
    {
     "data": {
      "text/html": [
       "<div>\n",
       "<style scoped>\n",
       "    .dataframe tbody tr th:only-of-type {\n",
       "        vertical-align: middle;\n",
       "    }\n",
       "\n",
       "    .dataframe tbody tr th {\n",
       "        vertical-align: top;\n",
       "    }\n",
       "\n",
       "    .dataframe thead th {\n",
       "        text-align: right;\n",
       "    }\n",
       "</style>\n",
       "<table border=\"1\" class=\"dataframe\">\n",
       "  <thead>\n",
       "    <tr style=\"text-align: right;\">\n",
       "      <th></th>\n",
       "      <th>null</th>\n",
       "      <th>max</th>\n",
       "      <th>min</th>\n",
       "    </tr>\n",
       "  </thead>\n",
       "  <tbody>\n",
       "    <tr>\n",
       "      <th>MEMBER_NO</th>\n",
       "      <td>0</td>\n",
       "      <td>62988</td>\n",
       "      <td>1</td>\n",
       "    </tr>\n",
       "    <tr>\n",
       "      <th>FFP_DATE</th>\n",
       "      <td>0</td>\n",
       "      <td>NaN</td>\n",
       "      <td>NaN</td>\n",
       "    </tr>\n",
       "    <tr>\n",
       "      <th>FIRST_FLIGHT_DATE</th>\n",
       "      <td>0</td>\n",
       "      <td>NaN</td>\n",
       "      <td>NaN</td>\n",
       "    </tr>\n",
       "    <tr>\n",
       "      <th>GENDER</th>\n",
       "      <td>3</td>\n",
       "      <td>NaN</td>\n",
       "      <td>NaN</td>\n",
       "    </tr>\n",
       "    <tr>\n",
       "      <th>FFP_TIER</th>\n",
       "      <td>0</td>\n",
       "      <td>6</td>\n",
       "      <td>4</td>\n",
       "    </tr>\n",
       "    <tr>\n",
       "      <th>WORK_CITY</th>\n",
       "      <td>2269</td>\n",
       "      <td>NaN</td>\n",
       "      <td>NaN</td>\n",
       "    </tr>\n",
       "    <tr>\n",
       "      <th>WORK_PROVINCE</th>\n",
       "      <td>3248</td>\n",
       "      <td>NaN</td>\n",
       "      <td>NaN</td>\n",
       "    </tr>\n",
       "    <tr>\n",
       "      <th>WORK_COUNTRY</th>\n",
       "      <td>26</td>\n",
       "      <td>NaN</td>\n",
       "      <td>NaN</td>\n",
       "    </tr>\n",
       "    <tr>\n",
       "      <th>AGE</th>\n",
       "      <td>420</td>\n",
       "      <td>110</td>\n",
       "      <td>6</td>\n",
       "    </tr>\n",
       "    <tr>\n",
       "      <th>LOAD_TIME</th>\n",
       "      <td>0</td>\n",
       "      <td>NaN</td>\n",
       "      <td>NaN</td>\n",
       "    </tr>\n",
       "    <tr>\n",
       "      <th>FLIGHT_COUNT</th>\n",
       "      <td>0</td>\n",
       "      <td>213</td>\n",
       "      <td>2</td>\n",
       "    </tr>\n",
       "    <tr>\n",
       "      <th>BP_SUM</th>\n",
       "      <td>0</td>\n",
       "      <td>505308</td>\n",
       "      <td>0</td>\n",
       "    </tr>\n",
       "    <tr>\n",
       "      <th>EP_SUM_YR_1</th>\n",
       "      <td>0</td>\n",
       "      <td>0</td>\n",
       "      <td>0</td>\n",
       "    </tr>\n",
       "    <tr>\n",
       "      <th>EP_SUM_YR_2</th>\n",
       "      <td>0</td>\n",
       "      <td>74460</td>\n",
       "      <td>0</td>\n",
       "    </tr>\n",
       "    <tr>\n",
       "      <th>SUM_YR_1</th>\n",
       "      <td>551</td>\n",
       "      <td>239560</td>\n",
       "      <td>0</td>\n",
       "    </tr>\n",
       "    <tr>\n",
       "      <th>SUM_YR_2</th>\n",
       "      <td>138</td>\n",
       "      <td>234188</td>\n",
       "      <td>0</td>\n",
       "    </tr>\n",
       "    <tr>\n",
       "      <th>SEG_KM_SUM</th>\n",
       "      <td>0</td>\n",
       "      <td>580717</td>\n",
       "      <td>368</td>\n",
       "    </tr>\n",
       "    <tr>\n",
       "      <th>WEIGHTED_SEG_KM</th>\n",
       "      <td>0</td>\n",
       "      <td>558440</td>\n",
       "      <td>0</td>\n",
       "    </tr>\n",
       "    <tr>\n",
       "      <th>LAST_FLIGHT_DATE</th>\n",
       "      <td>0</td>\n",
       "      <td>NaN</td>\n",
       "      <td>NaN</td>\n",
       "    </tr>\n",
       "    <tr>\n",
       "      <th>AVG_FLIGHT_COUNT</th>\n",
       "      <td>0</td>\n",
       "      <td>26.625</td>\n",
       "      <td>0.25</td>\n",
       "    </tr>\n",
       "    <tr>\n",
       "      <th>AVG_BP_SUM</th>\n",
       "      <td>0</td>\n",
       "      <td>63163.5</td>\n",
       "      <td>0</td>\n",
       "    </tr>\n",
       "    <tr>\n",
       "      <th>BEGIN_TO_FIRST</th>\n",
       "      <td>0</td>\n",
       "      <td>729</td>\n",
       "      <td>0</td>\n",
       "    </tr>\n",
       "    <tr>\n",
       "      <th>LAST_TO_END</th>\n",
       "      <td>0</td>\n",
       "      <td>731</td>\n",
       "      <td>1</td>\n",
       "    </tr>\n",
       "    <tr>\n",
       "      <th>AVG_INTERVAL</th>\n",
       "      <td>0</td>\n",
       "      <td>728</td>\n",
       "      <td>0</td>\n",
       "    </tr>\n",
       "    <tr>\n",
       "      <th>MAX_INTERVAL</th>\n",
       "      <td>0</td>\n",
       "      <td>728</td>\n",
       "      <td>0</td>\n",
       "    </tr>\n",
       "    <tr>\n",
       "      <th>ADD_POINTS_SUM_YR_1</th>\n",
       "      <td>0</td>\n",
       "      <td>600000</td>\n",
       "      <td>0</td>\n",
       "    </tr>\n",
       "    <tr>\n",
       "      <th>ADD_POINTS_SUM_YR_2</th>\n",
       "      <td>0</td>\n",
       "      <td>728282</td>\n",
       "      <td>0</td>\n",
       "    </tr>\n",
       "    <tr>\n",
       "      <th>EXCHANGE_COUNT</th>\n",
       "      <td>0</td>\n",
       "      <td>46</td>\n",
       "      <td>0</td>\n",
       "    </tr>\n",
       "    <tr>\n",
       "      <th>avg_discount</th>\n",
       "      <td>0</td>\n",
       "      <td>1.5</td>\n",
       "      <td>0</td>\n",
       "    </tr>\n",
       "    <tr>\n",
       "      <th>P1Y_Flight_Count</th>\n",
       "      <td>0</td>\n",
       "      <td>118</td>\n",
       "      <td>0</td>\n",
       "    </tr>\n",
       "    <tr>\n",
       "      <th>L1Y_Flight_Count</th>\n",
       "      <td>0</td>\n",
       "      <td>111</td>\n",
       "      <td>0</td>\n",
       "    </tr>\n",
       "    <tr>\n",
       "      <th>P1Y_BP_SUM</th>\n",
       "      <td>0</td>\n",
       "      <td>246197</td>\n",
       "      <td>0</td>\n",
       "    </tr>\n",
       "    <tr>\n",
       "      <th>L1Y_BP_SUM</th>\n",
       "      <td>0</td>\n",
       "      <td>259111</td>\n",
       "      <td>0</td>\n",
       "    </tr>\n",
       "    <tr>\n",
       "      <th>EP_SUM</th>\n",
       "      <td>0</td>\n",
       "      <td>74460</td>\n",
       "      <td>0</td>\n",
       "    </tr>\n",
       "    <tr>\n",
       "      <th>ADD_Point_SUM</th>\n",
       "      <td>0</td>\n",
       "      <td>984938</td>\n",
       "      <td>0</td>\n",
       "    </tr>\n",
       "    <tr>\n",
       "      <th>Eli_Add_Point_Sum</th>\n",
       "      <td>0</td>\n",
       "      <td>984938</td>\n",
       "      <td>0</td>\n",
       "    </tr>\n",
       "    <tr>\n",
       "      <th>L1Y_ELi_Add_Points</th>\n",
       "      <td>0</td>\n",
       "      <td>728282</td>\n",
       "      <td>0</td>\n",
       "    </tr>\n",
       "    <tr>\n",
       "      <th>Points_Sum</th>\n",
       "      <td>0</td>\n",
       "      <td>985572</td>\n",
       "      <td>0</td>\n",
       "    </tr>\n",
       "    <tr>\n",
       "      <th>L1Y_Points_Sum</th>\n",
       "      <td>0</td>\n",
       "      <td>728282</td>\n",
       "      <td>0</td>\n",
       "    </tr>\n",
       "    <tr>\n",
       "      <th>Ration_L1Y_Flight_Count</th>\n",
       "      <td>0</td>\n",
       "      <td>1</td>\n",
       "      <td>0</td>\n",
       "    </tr>\n",
       "    <tr>\n",
       "      <th>Ration_P1Y_Flight_Count</th>\n",
       "      <td>0</td>\n",
       "      <td>1</td>\n",
       "      <td>0</td>\n",
       "    </tr>\n",
       "    <tr>\n",
       "      <th>Ration_P1Y_BPS</th>\n",
       "      <td>0</td>\n",
       "      <td>0.999989</td>\n",
       "      <td>0</td>\n",
       "    </tr>\n",
       "    <tr>\n",
       "      <th>Ration_L1Y_BPS</th>\n",
       "      <td>0</td>\n",
       "      <td>0.999993</td>\n",
       "      <td>0</td>\n",
       "    </tr>\n",
       "    <tr>\n",
       "      <th>Point_NotFlight</th>\n",
       "      <td>0</td>\n",
       "      <td>140</td>\n",
       "      <td>0</td>\n",
       "    </tr>\n",
       "  </tbody>\n",
       "</table>\n",
       "</div>"
      ],
      "text/plain": [
       "                         null       max   min\n",
       "MEMBER_NO                   0     62988     1\n",
       "FFP_DATE                    0       NaN   NaN\n",
       "FIRST_FLIGHT_DATE           0       NaN   NaN\n",
       "GENDER                      3       NaN   NaN\n",
       "FFP_TIER                    0         6     4\n",
       "WORK_CITY                2269       NaN   NaN\n",
       "WORK_PROVINCE            3248       NaN   NaN\n",
       "WORK_COUNTRY               26       NaN   NaN\n",
       "AGE                       420       110     6\n",
       "LOAD_TIME                   0       NaN   NaN\n",
       "FLIGHT_COUNT                0       213     2\n",
       "BP_SUM                      0    505308     0\n",
       "EP_SUM_YR_1                 0         0     0\n",
       "EP_SUM_YR_2                 0     74460     0\n",
       "SUM_YR_1                  551    239560     0\n",
       "SUM_YR_2                  138    234188     0\n",
       "SEG_KM_SUM                  0    580717   368\n",
       "WEIGHTED_SEG_KM             0    558440     0\n",
       "LAST_FLIGHT_DATE            0       NaN   NaN\n",
       "AVG_FLIGHT_COUNT            0    26.625  0.25\n",
       "AVG_BP_SUM                  0   63163.5     0\n",
       "BEGIN_TO_FIRST              0       729     0\n",
       "LAST_TO_END                 0       731     1\n",
       "AVG_INTERVAL                0       728     0\n",
       "MAX_INTERVAL                0       728     0\n",
       "ADD_POINTS_SUM_YR_1         0    600000     0\n",
       "ADD_POINTS_SUM_YR_2         0    728282     0\n",
       "EXCHANGE_COUNT              0        46     0\n",
       "avg_discount                0       1.5     0\n",
       "P1Y_Flight_Count            0       118     0\n",
       "L1Y_Flight_Count            0       111     0\n",
       "P1Y_BP_SUM                  0    246197     0\n",
       "L1Y_BP_SUM                  0    259111     0\n",
       "EP_SUM                      0     74460     0\n",
       "ADD_Point_SUM               0    984938     0\n",
       "Eli_Add_Point_Sum           0    984938     0\n",
       "L1Y_ELi_Add_Points          0    728282     0\n",
       "Points_Sum                  0    985572     0\n",
       "L1Y_Points_Sum              0    728282     0\n",
       "Ration_L1Y_Flight_Count     0         1     0\n",
       "Ration_P1Y_Flight_Count     0         1     0\n",
       "Ration_P1Y_BPS              0  0.999989     0\n",
       "Ration_L1Y_BPS              0  0.999993     0\n",
       "Point_NotFlight             0       140     0"
      ]
     },
     "execution_count": 168,
     "metadata": {},
     "output_type": "execute_result"
    }
   ],
   "source": [
    "explore = df.describe(percentiles=[],include='all').T\n",
    "explore['null'] = df.isnull().sum()\n",
    "explore[['null','max','min']]"
   ]
  },
  {
   "cell_type": "markdown",
   "metadata": {
    "ExecuteTime": {
     "end_time": "2021-06-09T01:34:41.034275Z",
     "start_time": "2021-06-09T01:34:40.976349Z"
    }
   },
   "source": [
    "对客户基本信息进行分析"
   ]
  },
  {
   "cell_type": "code",
   "execution_count": 169,
   "metadata": {
    "ExecuteTime": {
     "end_time": "2021-06-09T07:03:01.077711Z",
     "start_time": "2021-06-09T07:03:00.771529Z"
    }
   },
   "outputs": [
    {
     "data": {
      "text/plain": [
       "0       2006-11-02\n",
       "1       2007-02-19\n",
       "2       2007-02-01\n",
       "3       2008-08-22\n",
       "4       2009-04-10\n",
       "           ...    \n",
       "62983   2011-05-20\n",
       "62984   2010-03-08\n",
       "62985   2006-03-30\n",
       "62986   2013-02-06\n",
       "62987   2013-02-17\n",
       "Name: FFP_DATE, Length: 62988, dtype: datetime64[ns]"
      ]
     },
     "execution_count": 169,
     "metadata": {},
     "output_type": "execute_result"
    }
   ],
   "source": [
    "df['FFP_DATE'] = pd.to_datetime(df['FFP_DATE'],format='%Y/%m/%d')\n",
    "df['FFP_DATE']"
   ]
  },
  {
   "cell_type": "code",
   "execution_count": 170,
   "metadata": {
    "ExecuteTime": {
     "end_time": "2021-06-09T07:03:02.102796Z",
     "start_time": "2021-06-09T07:03:01.084693Z"
    }
   },
   "outputs": [
    {
     "data": {
      "text/plain": [
       "<AxesSubplot:>"
      ]
     },
     "execution_count": 170,
     "metadata": {},
     "output_type": "execute_result"
    },
    {
     "data": {
      "image/png": "[encoded data removed]",
      "text/plain": [
       "<Figure size 1152x864 with 1 Axes>"
      ]
     },
     "metadata": {},
     "output_type": "display_data"
    }
   ],
   "source": [
    "df['FFP_DATE'].hist(figsize=(16,12))  #查看用户入会时间分布"
   ]
  },
  {
   "cell_type": "markdown",
   "metadata": {},
   "source": [
    "由入会分布图 可以发现 入会人员一直在逐渐增长，且在2011年后快速增长  --》 "
   ]
  },
  {
   "cell_type": "code",
   "execution_count": 171,
   "metadata": {
    "ExecuteTime": {
     "end_time": "2021-06-09T07:03:02.239942Z",
     "start_time": "2021-06-09T07:03:02.113769Z"
    }
   },
   "outputs": [],
   "source": [
    "df['FIRST_FLIGHT_DATE'] = pd.to_datetime(df['FIRST_FLIGHT_DATE'],format='%Y/%m/%d')"
   ]
  },
  {
   "cell_type": "code",
   "execution_count": 172,
   "metadata": {
    "ExecuteTime": {
     "end_time": "2021-06-09T07:03:02.995817Z",
     "start_time": "2021-06-09T07:03:02.249916Z"
    }
   },
   "outputs": [
    {
     "data": {
      "text/plain": [
       "<AxesSubplot:>"
      ]
     },
     "execution_count": 172,
     "metadata": {},
     "output_type": "execute_result"
    },
    {
     "data": {
      "image/png": "[encoded data removed]",
      "text/plain": [
       "<Figure size 1152x864 with 1 Axes>"
      ]
     },
     "metadata": {},
     "output_type": "display_data"
    }
   ],
   "source": [
    "df['FIRST_FLIGHT_DATE'].hist(figsize=(16,12),bins=10)"
   ]
  },
  {
   "cell_type": "code",
   "execution_count": 173,
   "metadata": {
    "ExecuteTime": {
     "end_time": "2021-06-09T07:03:03.962794Z",
     "start_time": "2021-06-09T07:03:02.999803Z"
    }
   },
   "outputs": [
    {
     "data": {
      "text/plain": [
       "<AxesSubplot:>"
      ]
     },
     "execution_count": 173,
     "metadata": {},
     "output_type": "execute_result"
    },
    {
     "data": {
      "image/png": "[encoded data removed]",
      "text/plain": [
       "<Figure size 1152x864 with 1 Axes>"
      ]
     },
     "metadata": {},
     "output_type": "display_data"
    }
   ],
   "source": [
    "plt.subplots(figsize=(16,12))\n",
    "df['FIRST_FLIGHT_DATE'].value_counts().plot()  "
   ]
  },
  {
   "cell_type": "markdown",
   "metadata": {
    "ExecuteTime": {
     "end_time": "2021-06-09T01:54:27.096655Z",
     "start_time": "2021-06-09T01:54:24.737452Z"
    }
   },
   "source": [
    "画出用户第一次飞行时间  发现 总04年开始快速增长到14年有下降趋势"
   ]
  },
  {
   "cell_type": "code",
   "execution_count": 174,
   "metadata": {
    "ExecuteTime": {
     "end_time": "2021-06-09T07:03:04.478595Z",
     "start_time": "2021-06-09T07:03:03.966786Z"
    }
   },
   "outputs": [
    {
     "data": {
      "text/plain": [
       "([<matplotlib.patches.Wedge at 0x27ec0a4e730>,\n",
       "  <matplotlib.patches.Wedge at 0x27ec2bc9310>],\n",
       " [Text(-0.811762931787003, 0.7423213203031217, 'male'),\n",
       "  Text(0.811762897036433, -0.7423213583044863, 'female')],\n",
       " [Text(-0.44277978097472886, 0.4049025383471572, '76.42%'),\n",
       "  Text(0.4427797620198725, -0.4049025590751743, '23.58%')])"
      ]
     },
     "execution_count": 174,
     "metadata": {},
     "output_type": "execute_result"
    },
    {
     "data": {
      "image/png": "[encoded data removed]",
      "text/plain": [
       "<Figure size 1152x864 with 1 Axes>"
      ]
     },
     "metadata": {},
     "output_type": "display_data"
    }
   ],
   "source": [
    "male = pd.value_counts(df['GENDER'])['男']\n",
    "female = pd.value_counts(df['GENDER'])['女']\n",
    "plt.subplots(figsize=(16,12))\n",
    "plt.pie([male,female],colors=['r','g'],labels=['male','female'],autopct='%1.2f%%')"
   ]
  },
  {
   "cell_type": "markdown",
   "metadata": {
    "ExecuteTime": {
     "end_time": "2021-06-09T01:58:59.748998Z",
     "start_time": "2021-06-09T01:58:59.724066Z"
    }
   },
   "source": [
    "性别饼图 发现男性占比76%  是女性客户的三倍还要多"
   ]
  },
  {
   "cell_type": "code",
   "execution_count": 175,
   "metadata": {
    "ExecuteTime": {
     "end_time": "2021-06-09T07:03:04.505523Z",
     "start_time": "2021-06-09T07:03:04.482586Z"
    }
   },
   "outputs": [
    {
     "data": {
      "text/plain": [
       "4    58066\n",
       "5     3409\n",
       "6     1513\n",
       "Name: FFP_TIER, dtype: int64"
      ]
     },
     "execution_count": 175,
     "metadata": {},
     "output_type": "execute_result"
    }
   ],
   "source": [
    "df['FFP_TIER'].value_counts()"
   ]
  },
  {
   "cell_type": "code",
   "execution_count": 176,
   "metadata": {
    "ExecuteTime": {
     "end_time": "2021-06-09T07:03:05.047075Z",
     "start_time": "2021-06-09T07:03:04.514499Z"
    }
   },
   "outputs": [
    {
     "data": {
      "text/plain": [
       "([<matplotlib.patches.Wedge at 0x27ec29d88e0>,\n",
       "  <matplotlib.patches.Wedge at 0x27ec29d8b20>,\n",
       "  <matplotlib.patches.Wedge at 0x27ec29d8190>],\n",
       " [Text(-1.0670202132105133, 0.2673347425984713, 'level4'),\n",
       "  Text(1.043828939835022, -0.34701749864076603, 'level5'),\n",
       "  Text(1.096869465103967, -0.08292994949074363, 'level6')],\n",
       " [Text(-0.5820110253875527, 0.14581895050825705, '92.19%'),\n",
       "  Text(0.569361239910012, -0.18928227198587236, '5.41%'),\n",
       "  Text(0.5982924355112547, -0.045234517904041975, '2.40%')])"
      ]
     },
     "execution_count": 176,
     "metadata": {},
     "output_type": "execute_result"
    },
    {
     "data": {
      "image/png": "[encoded data removed]",
      "text/plain": [
       "<Figure size 1152x864 with 1 Axes>"
      ]
     },
     "metadata": {},
     "output_type": "display_data"
    }
   ],
   "source": [
    "level4 = pd.value_counts(df['FFP_TIER'])[4]\n",
    "level5 = pd.value_counts(df['FFP_TIER'])[5]\n",
    "level6 = pd.value_counts(df['FFP_TIER'])[6]\n",
    "plt.subplots(figsize=(16,12))\n",
    "plt.pie([level4,level5,level6],labels=['level4','level5','level6'],autopct='%1.2f%%',\n",
    "        colors=['r','g','b'])"
   ]
  },
  {
   "cell_type": "markdown",
   "metadata": {},
   "source": [
    "由客户等级分布图所示 level4 占比92% 是主要客户  level5,level6 或许是重要客户？需要进一步分析"
   ]
  },
  {
   "cell_type": "code",
   "execution_count": 177,
   "metadata": {
    "ExecuteTime": {
     "end_time": "2021-06-09T07:03:05.562851Z",
     "start_time": "2021-06-09T07:03:05.050067Z"
    },
    "scrolled": true
   },
   "outputs": [
    {
     "data": {
      "text/plain": [
       "{'whiskers': [<matplotlib.lines.Line2D at 0x27ec2a9d1f0>,\n",
       "  <matplotlib.lines.Line2D at 0x27ec2a9d670>],\n",
       " 'caps': [<matplotlib.lines.Line2D at 0x27ec2a9dd30>,\n",
       "  <matplotlib.lines.Line2D at 0x27ec2a42130>],\n",
       " 'boxes': [<matplotlib.lines.Line2D at 0x27ec2a9d940>],\n",
       " 'medians': [<matplotlib.lines.Line2D at 0x27ec2a42b20>],\n",
       " 'fliers': [<matplotlib.lines.Line2D at 0x27ec2a42f10>],\n",
       " 'means': []}"
      ]
     },
     "execution_count": 177,
     "metadata": {},
     "output_type": "execute_result"
    },
    {
     "data": {
      "image/png": "[encoded data removed]",
      "text/plain": [
       "<Figure size 1152x864 with 1 Axes>"
      ]
     },
     "metadata": {},
     "output_type": "display_data"
    }
   ],
   "source": [
    "plt.rcParams['font.sans-serif'] = 'SimHei'\n",
    "plt.rcParams['axes.unicode_minus'] = False\n",
    "age = df['AGE'].dropna()\n",
    "plt.subplots(figsize=(16,12))\n",
    "plt.boxplot(age,labels=['会员年龄'],showfliers=True,showbox=True)"
   ]
  },
  {
   "cell_type": "markdown",
   "metadata": {},
   "source": [
    "发现会员年龄主要集中在 20 - 60岁之间"
   ]
  },
  {
   "cell_type": "markdown",
   "metadata": {
    "ExecuteTime": {
     "end_time": "2021-06-09T06:47:06.121714Z",
     "start_time": "2021-06-09T06:47:06.095784Z"
    }
   },
   "source": [
    "------------------------------------------------\n",
    "客户乘机信息分布分析\n",
    "--------------------------------------"
   ]
  },
  {
   "cell_type": "code",
   "execution_count": 183,
   "metadata": {
    "ExecuteTime": {
     "end_time": "2021-06-09T07:07:15.225164Z",
     "start_time": "2021-06-09T07:07:14.966789Z"
    }
   },
   "outputs": [
    {
     "data": {
      "text/plain": [
       "{'whiskers': [<matplotlib.lines.Line2D at 0x27ec2912730>,\n",
       "  <matplotlib.lines.Line2D at 0x27ec29120d0>],\n",
       " 'caps': [<matplotlib.lines.Line2D at 0x27ec29127f0>,\n",
       "  <matplotlib.lines.Line2D at 0x27ec481b250>],\n",
       " 'boxes': [<matplotlib.lines.Line2D at 0x27ec29124f0>],\n",
       " 'medians': [<matplotlib.lines.Line2D at 0x27ec481bb50>],\n",
       " 'fliers': [<matplotlib.lines.Line2D at 0x27ec294d130>],\n",
       " 'means': [<matplotlib.lines.Line2D at 0x27ec481b280>]}"
      ]
     },
     "execution_count": 183,
     "metadata": {},
     "output_type": "execute_result"
    },
    {
     "data": {
      "image/png": "[encoded data removed]",
      "text/plain": [
       "<Figure size 1152x864 with 1 Axes>"
      ]
     },
     "metadata": {},
     "output_type": "display_data"
    }
   ],
   "source": [
    "lte = df['LAST_TO_END']\n",
    "fig = plt.subplots(figsize=(16,12))\n",
    "plt.boxplot(lte,labels=['最后一次乘坐飞机 距今时长'],\n",
    "            showfliers=True,showmeans=True)"
   ]
  },
  {
   "cell_type": "markdown",
   "metadata": {
    "ExecuteTime": {
     "end_time": "2021-06-09T07:02:05.743839Z",
     "start_time": "2021-06-09T07:02:05.736343Z"
    }
   },
   "source": [
    "发现大部分用户 用户时长在50~300 比较多  600 以上有一部分群体"
   ]
  },
  {
   "cell_type": "code",
   "execution_count": 184,
   "metadata": {
    "ExecuteTime": {
     "end_time": "2021-06-09T07:13:50.849797Z",
     "start_time": "2021-06-09T07:13:50.500755Z"
    }
   },
   "outputs": [
    {
     "data": {
      "text/plain": [
       "{'whiskers': [<matplotlib.lines.Line2D at 0x27eb930f4f0>,\n",
       "  <matplotlib.lines.Line2D at 0x27eb930fa30>],\n",
       " 'caps': [<matplotlib.lines.Line2D at 0x27ebc238310>,\n",
       "  <matplotlib.lines.Line2D at 0x27eba76feb0>],\n",
       " 'boxes': [<matplotlib.lines.Line2D at 0x27ebc562970>],\n",
       " 'medians': [<matplotlib.lines.Line2D at 0x27ec28eebe0>],\n",
       " 'fliers': [<matplotlib.lines.Line2D at 0x27eba04f670>],\n",
       " 'means': []}"
      ]
     },
     "execution_count": 184,
     "metadata": {},
     "output_type": "execute_result"
    },
    {
     "data": {
      "image/png": "[encoded data removed]",
      "text/plain": [
       "<Figure size 432x288 with 1 Axes>"
      ]
     },
     "metadata": {},
     "output_type": "display_data"
    }
   ],
   "source": [
    "flight_count = df['FLIGHT_COUNT']\n",
    "fig = plt.subplots(figsize=(16,12))\n",
    "plt.boxplot(flight_count,labels=['用户飞行次数'])"
   ]
  },
  {
   "cell_type": "markdown",
   "metadata": {},
   "source": [
    "从上面两个图发现可以划分为两类\n",
    "   1  用户的飞行次数多处于 10~20之间  \n",
    "   2  30往上还有另一部分群体  --》 重要价值客户"
   ]
  },
  {
   "cell_type": "code",
   "execution_count": 187,
   "metadata": {
    "ExecuteTime": {
     "end_time": "2021-06-09T07:17:12.588725Z",
     "start_time": "2021-06-09T07:17:12.218201Z"
    }
   },
   "outputs": [
    {
     "data": {
      "text/plain": [
       "{'whiskers': [<matplotlib.lines.Line2D at 0x27ecebc0f40>,\n",
       "  <matplotlib.lines.Line2D at 0x27ecebc0cd0>],\n",
       " 'caps': [<matplotlib.lines.Line2D at 0x27ebc7d5c40>,\n",
       "  <matplotlib.lines.Line2D at 0x27ecea40ee0>],\n",
       " 'boxes': [<matplotlib.lines.Line2D at 0x27ecebc0400>],\n",
       " 'medians': [<matplotlib.lines.Line2D at 0x27eba136bb0>],\n",
       " 'fliers': [<matplotlib.lines.Line2D at 0x27ecebbbd00>],\n",
       " 'means': []}"
      ]
     },
     "execution_count": 187,
     "metadata": {},
     "output_type": "execute_result"
    },
    {
     "data": {
      "image/png": "[encoded data removed]",
      "text/plain": [
       "<Figure size 432x288 with 1 Axes>"
      ]
     },
     "metadata": {},
     "output_type": "display_data"
    }
   ],
   "source": [
    "seg_sum = df['SEG_KM_SUM']\n",
    "fig = plt.subplots(figsize=(16,12))\n",
    "plt.boxplot(seg_sum,labels=['总飞行公里数'])"
   ]
  },
  {
   "cell_type": "markdown",
   "metadata": {},
   "source": [
    "可划分为两类 \n",
    "- 用户飞行公里数多处于一万七 到 四万之间  \n",
    "- 五万之后有另一部分群体--> 可能是重要价值客户  "
   ]
  },
  {
   "cell_type": "markdown",
   "metadata": {
    "ExecuteTime": {
     "end_time": "2021-06-09T07:18:23.762893Z",
     "start_time": "2021-06-09T07:18:23.725992Z"
    }
   },
   "source": [
    "---------------\n",
    "客户积分信息分布分析\n",
    "-----------"
   ]
  },
  {
   "cell_type": "code",
   "execution_count": 194,
   "metadata": {
    "ExecuteTime": {
     "end_time": "2021-06-09T07:29:51.400888Z",
     "start_time": "2021-06-09T07:29:51.015536Z"
    }
   },
   "outputs": [
    {
     "data": {
      "text/plain": [
       "{'whiskers': [<matplotlib.lines.Line2D at 0x27ec05fa490>,\n",
       "  <matplotlib.lines.Line2D at 0x27ec05faf10>],\n",
       " 'caps': [<matplotlib.lines.Line2D at 0x27eba0b77c0>,\n",
       "  <matplotlib.lines.Line2D at 0x27ec4921730>],\n",
       " 'boxes': [<matplotlib.lines.Line2D at 0x27ebc401eb0>],\n",
       " 'medians': [<matplotlib.lines.Line2D at 0x27ec4921370>],\n",
       " 'fliers': [<matplotlib.lines.Line2D at 0x27ec49215e0>],\n",
       " 'means': []}"
      ]
     },
     "execution_count": 194,
     "metadata": {},
     "output_type": "execute_result"
    },
    {
     "data": {
      "image/png": "[encoded data removed]",
      "text/plain": [
       "<Figure size 432x288 with 1 Axes>"
      ]
     },
     "metadata": {},
     "output_type": "display_data"
    }
   ],
   "source": [
    "exchange_count = df['EXCHANGE_COUNT']\n",
    "fig = plt.subplots(figsize=(16,12))\n",
    "plt.boxplot(exchange_count,labels=['积分兑换次数'])"
   ]
  },
  {
   "cell_type": "markdown",
   "metadata": {},
   "source": [
    "可划分为两类\n",
    "- 一大部分人没兑换过积分\n",
    "- 会换过积分的  --》 重要客户 （兑换过积分说明 乘坐飞机次数多）"
   ]
  },
  {
   "cell_type": "code",
   "execution_count": 196,
   "metadata": {
    "ExecuteTime": {
     "end_time": "2021-06-09T07:32:42.557036Z",
     "start_time": "2021-06-09T07:32:42.289273Z"
    }
   },
   "outputs": [
    {
     "data": {
      "text/plain": [
       "{'whiskers': [<matplotlib.lines.Line2D at 0x27ecebdc760>,\n",
       "  <matplotlib.lines.Line2D at 0x27ecebdc3d0>],\n",
       " 'caps': [<matplotlib.lines.Line2D at 0x27ecebdc070>,\n",
       "  <matplotlib.lines.Line2D at 0x27ecebdccd0>],\n",
       " 'boxes': [<matplotlib.lines.Line2D at 0x27ecebe8520>],\n",
       " 'medians': [<matplotlib.lines.Line2D at 0x27ecebdc4c0>],\n",
       " 'fliers': [<matplotlib.lines.Line2D at 0x27ecebe02e0>],\n",
       " 'means': []}"
      ]
     },
     "execution_count": 196,
     "metadata": {},
     "output_type": "execute_result"
    },
    {
     "data": {
      "image/png": "[encoded data removed]",
      "text/plain": [
       "<Figure size 432x288 with 1 Axes>"
      ]
     },
     "metadata": {},
     "output_type": "display_data"
    }
   ],
   "source": [
    "point_sum = df['Points_Sum']\n",
    "fig = plt.subplots(figsize=(16,12))\n",
    "plt.boxplot(point_sum,labels=['累计积分'])"
   ]
  },
  {
   "cell_type": "markdown",
   "metadata": {},
   "source": [
    "可分为两类\n",
    "- 积分未达到平均值  接近于0\n",
    "- 积分超过平均值  --》 重要客户"
   ]
  },
  {
   "cell_type": "markdown",
   "metadata": {
    "ExecuteTime": {
     "end_time": "2021-06-09T07:37:13.177039Z",
     "start_time": "2021-06-09T07:37:13.166047Z"
    }
   },
   "source": [
    "--------------------------\n",
    "相关性分析\n",
    "---------------------------\n",
    "\n",
    "--------------------------"
   ]
  },
  {
   "cell_type": "code",
   "execution_count": 198,
   "metadata": {
    "ExecuteTime": {
     "end_time": "2021-06-09T07:38:51.901784Z",
     "start_time": "2021-06-09T07:38:51.881836Z"
    }
   },
   "outputs": [
    {
     "data": {
      "text/plain": [
       "Index(['MEMBER_NO', 'FFP_DATE', 'FIRST_FLIGHT_DATE', 'GENDER', 'FFP_TIER',\n",
       "       'WORK_CITY', 'WORK_PROVINCE', 'WORK_COUNTRY', 'AGE', 'LOAD_TIME',\n",
       "       'FLIGHT_COUNT', 'BP_SUM', 'EP_SUM_YR_1', 'EP_SUM_YR_2', 'SUM_YR_1',\n",
       "       'SUM_YR_2', 'SEG_KM_SUM', 'WEIGHTED_SEG_KM', 'LAST_FLIGHT_DATE',\n",
       "       'AVG_FLIGHT_COUNT', 'AVG_BP_SUM', 'BEGIN_TO_FIRST', 'LAST_TO_END',\n",
       "       'AVG_INTERVAL', 'MAX_INTERVAL', 'ADD_POINTS_SUM_YR_1',\n",
       "       'ADD_POINTS_SUM_YR_2', 'EXCHANGE_COUNT', 'avg_discount',\n",
       "       'P1Y_Flight_Count', 'L1Y_Flight_Count', 'P1Y_BP_SUM', 'L1Y_BP_SUM',\n",
       "       'EP_SUM', 'ADD_Point_SUM', 'Eli_Add_Point_Sum', 'L1Y_ELi_Add_Points',\n",
       "       'Points_Sum', 'L1Y_Points_Sum', 'Ration_L1Y_Flight_Count',\n",
       "       'Ration_P1Y_Flight_Count', 'Ration_P1Y_BPS', 'Ration_L1Y_BPS',\n",
       "       'Point_NotFlight'],\n",
       "      dtype='object')"
      ]
     },
     "execution_count": 198,
     "metadata": {},
     "output_type": "execute_result"
    }
   ],
   "source": [
    "df.columns"
   ]
  },
  {
   "cell_type": "code",
   "execution_count": 201,
   "metadata": {
    "ExecuteTime": {
     "end_time": "2021-06-09T07:50:31.033654Z",
     "start_time": "2021-06-09T07:50:30.998751Z"
    }
   },
   "outputs": [
    {
     "data": {
      "text/html": [
       "<div>\n",
       "<style scoped>\n",
       "    .dataframe tbody tr th:only-of-type {\n",
       "        vertical-align: middle;\n",
       "    }\n",
       "\n",
       "    .dataframe tbody tr th {\n",
       "        vertical-align: top;\n",
       "    }\n",
       "\n",
       "    .dataframe thead th {\n",
       "        text-align: right;\n",
       "    }\n",
       "</style>\n",
       "<table border=\"1\" class=\"dataframe\">\n",
       "  <thead>\n",
       "    <tr style=\"text-align: right;\">\n",
       "      <th></th>\n",
       "      <th>FFP_TIER</th>\n",
       "      <th>FLIGHT_COUNT</th>\n",
       "      <th>LAST_TO_END</th>\n",
       "      <th>EXCHANGE_COUNT</th>\n",
       "      <th>SEG_KM_SUM</th>\n",
       "      <th>Points_Sum</th>\n",
       "    </tr>\n",
       "  </thead>\n",
       "  <tbody>\n",
       "    <tr>\n",
       "      <th>0</th>\n",
       "      <td>6</td>\n",
       "      <td>210</td>\n",
       "      <td>1</td>\n",
       "      <td>34</td>\n",
       "      <td>580717</td>\n",
       "      <td>619760</td>\n",
       "    </tr>\n",
       "    <tr>\n",
       "      <th>1</th>\n",
       "      <td>6</td>\n",
       "      <td>140</td>\n",
       "      <td>7</td>\n",
       "      <td>29</td>\n",
       "      <td>293678</td>\n",
       "      <td>415768</td>\n",
       "    </tr>\n",
       "    <tr>\n",
       "      <th>2</th>\n",
       "      <td>6</td>\n",
       "      <td>135</td>\n",
       "      <td>11</td>\n",
       "      <td>20</td>\n",
       "      <td>283712</td>\n",
       "      <td>406361</td>\n",
       "    </tr>\n",
       "    <tr>\n",
       "      <th>3</th>\n",
       "      <td>5</td>\n",
       "      <td>23</td>\n",
       "      <td>97</td>\n",
       "      <td>11</td>\n",
       "      <td>281336</td>\n",
       "      <td>372204</td>\n",
       "    </tr>\n",
       "    <tr>\n",
       "      <th>4</th>\n",
       "      <td>6</td>\n",
       "      <td>152</td>\n",
       "      <td>5</td>\n",
       "      <td>27</td>\n",
       "      <td>309928</td>\n",
       "      <td>338813</td>\n",
       "    </tr>\n",
       "    <tr>\n",
       "      <th>...</th>\n",
       "      <td>...</td>\n",
       "      <td>...</td>\n",
       "      <td>...</td>\n",
       "      <td>...</td>\n",
       "      <td>...</td>\n",
       "      <td>...</td>\n",
       "    </tr>\n",
       "    <tr>\n",
       "      <th>62983</th>\n",
       "      <td>4</td>\n",
       "      <td>2</td>\n",
       "      <td>297</td>\n",
       "      <td>1</td>\n",
       "      <td>1134</td>\n",
       "      <td>12318</td>\n",
       "    </tr>\n",
       "    <tr>\n",
       "      <th>62984</th>\n",
       "      <td>4</td>\n",
       "      <td>4</td>\n",
       "      <td>89</td>\n",
       "      <td>14</td>\n",
       "      <td>8016</td>\n",
       "      <td>106972</td>\n",
       "    </tr>\n",
       "    <tr>\n",
       "      <th>62985</th>\n",
       "      <td>4</td>\n",
       "      <td>2</td>\n",
       "      <td>29</td>\n",
       "      <td>0</td>\n",
       "      <td>2594</td>\n",
       "      <td>0</td>\n",
       "    </tr>\n",
       "    <tr>\n",
       "      <th>62986</th>\n",
       "      <td>4</td>\n",
       "      <td>2</td>\n",
       "      <td>400</td>\n",
       "      <td>0</td>\n",
       "      <td>3934</td>\n",
       "      <td>0</td>\n",
       "    </tr>\n",
       "    <tr>\n",
       "      <th>62987</th>\n",
       "      <td>4</td>\n",
       "      <td>2</td>\n",
       "      <td>403</td>\n",
       "      <td>0</td>\n",
       "      <td>4222</td>\n",
       "      <td>0</td>\n",
       "    </tr>\n",
       "  </tbody>\n",
       "</table>\n",
       "<p>62988 rows × 6 columns</p>\n",
       "</div>"
      ],
      "text/plain": [
       "       FFP_TIER  FLIGHT_COUNT  LAST_TO_END  EXCHANGE_COUNT  SEG_KM_SUM  \\\n",
       "0             6           210            1              34      580717   \n",
       "1             6           140            7              29      293678   \n",
       "2             6           135           11              20      283712   \n",
       "3             5            23           97              11      281336   \n",
       "4             6           152            5              27      309928   \n",
       "...         ...           ...          ...             ...         ...   \n",
       "62983         4             2          297               1        1134   \n",
       "62984         4             4           89              14        8016   \n",
       "62985         4             2           29               0        2594   \n",
       "62986         4             2          400               0        3934   \n",
       "62987         4             2          403               0        4222   \n",
       "\n",
       "       Points_Sum  \n",
       "0          619760  \n",
       "1          415768  \n",
       "2          406361  \n",
       "3          372204  \n",
       "4          338813  \n",
       "...           ...  \n",
       "62983       12318  \n",
       "62984      106972  \n",
       "62985           0  \n",
       "62986           0  \n",
       "62987           0  \n",
       "\n",
       "[62988 rows x 6 columns]"
      ]
     },
     "execution_count": 201,
     "metadata": {},
     "output_type": "execute_result"
    }
   ],
   "source": [
    "importance_feat = ['FFP_TIER','FLIGHT_COUNT',\n",
    "                  'LAST_TO_END','EXCHANGE_COUNT','SEG_KM_SUM','Points_Sum']\n",
    "data_corr = df[importance_feat]\n",
    "data_corr"
   ]
  },
  {
   "cell_type": "code",
   "execution_count": 202,
   "metadata": {
    "ExecuteTime": {
     "end_time": "2021-06-09T07:53:34.777435Z",
     "start_time": "2021-06-09T07:53:34.340600Z"
    }
   },
   "outputs": [
    {
     "name": "stderr",
     "output_type": "stream",
     "text": [
      "<ipython-input-202-b6d8c7eebc46>:2: SettingWithCopyWarning: \n",
      "A value is trying to be set on a copy of a slice from a DataFrame.\n",
      "Try using .loc[row_indexer,col_indexer] = value instead\n",
      "\n",
      "See the caveats in the documentation: https://pandas.pydata.org/pandas-docs/stable/user_guide/indexing.html#returning-a-view-versus-a-copy\n",
      "  data_corr['age'] = age1\n",
      "<ipython-input-202-b6d8c7eebc46>:4: SettingWithCopyWarning: \n",
      "A value is trying to be set on a copy of a slice from a DataFrame.\n",
      "Try using .loc[row_indexer,col_indexer] = value instead\n",
      "\n",
      "See the caveats in the documentation: https://pandas.pydata.org/pandas-docs/stable/user_guide/indexing.html#returning-a-view-versus-a-copy\n",
      "  data_corr['ffp_year'] = ffp_year\n"
     ]
    },
    {
     "data": {
      "text/html": [
       "<div>\n",
       "<style scoped>\n",
       "    .dataframe tbody tr th:only-of-type {\n",
       "        vertical-align: middle;\n",
       "    }\n",
       "\n",
       "    .dataframe tbody tr th {\n",
       "        vertical-align: top;\n",
       "    }\n",
       "\n",
       "    .dataframe thead th {\n",
       "        text-align: right;\n",
       "    }\n",
       "</style>\n",
       "<table border=\"1\" class=\"dataframe\">\n",
       "  <thead>\n",
       "    <tr style=\"text-align: right;\">\n",
       "      <th></th>\n",
       "      <th>FFP_TIER</th>\n",
       "      <th>FLIGHT_COUNT</th>\n",
       "      <th>LAST_TO_END</th>\n",
       "      <th>EXCHANGE_COUNT</th>\n",
       "      <th>SEG_KM_SUM</th>\n",
       "      <th>Points_Sum</th>\n",
       "      <th>age</th>\n",
       "      <th>ffp_year</th>\n",
       "    </tr>\n",
       "  </thead>\n",
       "  <tbody>\n",
       "    <tr>\n",
       "      <th>0</th>\n",
       "      <td>6</td>\n",
       "      <td>210</td>\n",
       "      <td>1</td>\n",
       "      <td>34</td>\n",
       "      <td>580717</td>\n",
       "      <td>619760</td>\n",
       "      <td>31.0</td>\n",
       "      <td>2006</td>\n",
       "    </tr>\n",
       "    <tr>\n",
       "      <th>1</th>\n",
       "      <td>6</td>\n",
       "      <td>140</td>\n",
       "      <td>7</td>\n",
       "      <td>29</td>\n",
       "      <td>293678</td>\n",
       "      <td>415768</td>\n",
       "      <td>42.0</td>\n",
       "      <td>2007</td>\n",
       "    </tr>\n",
       "    <tr>\n",
       "      <th>2</th>\n",
       "      <td>6</td>\n",
       "      <td>135</td>\n",
       "      <td>11</td>\n",
       "      <td>20</td>\n",
       "      <td>283712</td>\n",
       "      <td>406361</td>\n",
       "      <td>40.0</td>\n",
       "      <td>2007</td>\n",
       "    </tr>\n",
       "    <tr>\n",
       "      <th>3</th>\n",
       "      <td>5</td>\n",
       "      <td>23</td>\n",
       "      <td>97</td>\n",
       "      <td>11</td>\n",
       "      <td>281336</td>\n",
       "      <td>372204</td>\n",
       "      <td>64.0</td>\n",
       "      <td>2008</td>\n",
       "    </tr>\n",
       "    <tr>\n",
       "      <th>4</th>\n",
       "      <td>6</td>\n",
       "      <td>152</td>\n",
       "      <td>5</td>\n",
       "      <td>27</td>\n",
       "      <td>309928</td>\n",
       "      <td>338813</td>\n",
       "      <td>48.0</td>\n",
       "      <td>2009</td>\n",
       "    </tr>\n",
       "    <tr>\n",
       "      <th>...</th>\n",
       "      <td>...</td>\n",
       "      <td>...</td>\n",
       "      <td>...</td>\n",
       "      <td>...</td>\n",
       "      <td>...</td>\n",
       "      <td>...</td>\n",
       "      <td>...</td>\n",
       "      <td>...</td>\n",
       "    </tr>\n",
       "    <tr>\n",
       "      <th>62983</th>\n",
       "      <td>4</td>\n",
       "      <td>2</td>\n",
       "      <td>297</td>\n",
       "      <td>1</td>\n",
       "      <td>1134</td>\n",
       "      <td>12318</td>\n",
       "      <td>25.0</td>\n",
       "      <td>2011</td>\n",
       "    </tr>\n",
       "    <tr>\n",
       "      <th>62984</th>\n",
       "      <td>4</td>\n",
       "      <td>4</td>\n",
       "      <td>89</td>\n",
       "      <td>14</td>\n",
       "      <td>8016</td>\n",
       "      <td>106972</td>\n",
       "      <td>38.0</td>\n",
       "      <td>2010</td>\n",
       "    </tr>\n",
       "    <tr>\n",
       "      <th>62985</th>\n",
       "      <td>4</td>\n",
       "      <td>2</td>\n",
       "      <td>29</td>\n",
       "      <td>0</td>\n",
       "      <td>2594</td>\n",
       "      <td>0</td>\n",
       "      <td>43.0</td>\n",
       "      <td>2006</td>\n",
       "    </tr>\n",
       "    <tr>\n",
       "      <th>62986</th>\n",
       "      <td>4</td>\n",
       "      <td>2</td>\n",
       "      <td>400</td>\n",
       "      <td>0</td>\n",
       "      <td>3934</td>\n",
       "      <td>0</td>\n",
       "      <td>36.0</td>\n",
       "      <td>2013</td>\n",
       "    </tr>\n",
       "    <tr>\n",
       "      <th>62987</th>\n",
       "      <td>4</td>\n",
       "      <td>2</td>\n",
       "      <td>403</td>\n",
       "      <td>0</td>\n",
       "      <td>4222</td>\n",
       "      <td>0</td>\n",
       "      <td>29.0</td>\n",
       "      <td>2013</td>\n",
       "    </tr>\n",
       "  </tbody>\n",
       "</table>\n",
       "<p>62988 rows × 8 columns</p>\n",
       "</div>"
      ],
      "text/plain": [
       "       FFP_TIER  FLIGHT_COUNT  LAST_TO_END  EXCHANGE_COUNT  SEG_KM_SUM  \\\n",
       "0             6           210            1              34      580717   \n",
       "1             6           140            7              29      293678   \n",
       "2             6           135           11              20      283712   \n",
       "3             5            23           97              11      281336   \n",
       "4             6           152            5              27      309928   \n",
       "...         ...           ...          ...             ...         ...   \n",
       "62983         4             2          297               1        1134   \n",
       "62984         4             4           89              14        8016   \n",
       "62985         4             2           29               0        2594   \n",
       "62986         4             2          400               0        3934   \n",
       "62987         4             2          403               0        4222   \n",
       "\n",
       "       Points_Sum   age  ffp_year  \n",
       "0          619760  31.0      2006  \n",
       "1          415768  42.0      2007  \n",
       "2          406361  40.0      2007  \n",
       "3          372204  64.0      2008  \n",
       "4          338813  48.0      2009  \n",
       "...           ...   ...       ...  \n",
       "62983       12318  25.0      2011  \n",
       "62984      106972  38.0      2010  \n",
       "62985           0  43.0      2006  \n",
       "62986           0  36.0      2013  \n",
       "62987           0  29.0      2013  \n",
       "\n",
       "[62988 rows x 8 columns]"
      ]
     },
     "execution_count": 202,
     "metadata": {},
     "output_type": "execute_result"
    }
   ],
   "source": [
    "age1 = df['AGE'].fillna(0)\n",
    "data_corr['age'] = age1\n",
    "ffp_year = pd.to_datetime(df['FFP_DATE'],format='%Y/%m/%d').apply(lambda x : x.year)\n",
    "data_corr['ffp_year'] = ffp_year\n",
    "data_corr"
   ]
  },
  {
   "cell_type": "code",
   "execution_count": 213,
   "metadata": {
    "ExecuteTime": {
     "end_time": "2021-06-09T08:07:16.121023Z",
     "start_time": "2021-06-09T08:07:16.051211Z"
    }
   },
   "outputs": [
    {
     "data": {
      "text/html": [
       "<div>\n",
       "<style scoped>\n",
       "    .dataframe tbody tr th:only-of-type {\n",
       "        vertical-align: middle;\n",
       "    }\n",
       "\n",
       "    .dataframe tbody tr th {\n",
       "        vertical-align: top;\n",
       "    }\n",
       "\n",
       "    .dataframe thead th {\n",
       "        text-align: right;\n",
       "    }\n",
       "</style>\n",
       "<table border=\"1\" class=\"dataframe\">\n",
       "  <thead>\n",
       "    <tr style=\"text-align: right;\">\n",
       "      <th></th>\n",
       "      <th>FFP_TIER</th>\n",
       "      <th>FLIGHT_COUNT</th>\n",
       "      <th>LAST_TO_END</th>\n",
       "      <th>EXCHANGE_COUNT</th>\n",
       "      <th>SEG_KM_SUM</th>\n",
       "      <th>Points_Sum</th>\n",
       "      <th>age</th>\n",
       "      <th>ffp_year</th>\n",
       "    </tr>\n",
       "  </thead>\n",
       "  <tbody>\n",
       "    <tr>\n",
       "      <th>FFP_TIER</th>\n",
       "      <td>1.000000</td>\n",
       "      <td>0.582447</td>\n",
       "      <td>-0.206313</td>\n",
       "      <td>0.342355</td>\n",
       "      <td>0.522350</td>\n",
       "      <td>0.559249</td>\n",
       "      <td>0.076245</td>\n",
       "      <td>-0.116510</td>\n",
       "    </tr>\n",
       "    <tr>\n",
       "      <th>FLIGHT_COUNT</th>\n",
       "      <td>0.582447</td>\n",
       "      <td>1.000000</td>\n",
       "      <td>-0.404999</td>\n",
       "      <td>0.502501</td>\n",
       "      <td>0.850411</td>\n",
       "      <td>0.747092</td>\n",
       "      <td>0.075309</td>\n",
       "      <td>-0.188181</td>\n",
       "    </tr>\n",
       "    <tr>\n",
       "      <th>LAST_TO_END</th>\n",
       "      <td>-0.206313</td>\n",
       "      <td>-0.404999</td>\n",
       "      <td>1.000000</td>\n",
       "      <td>-0.169717</td>\n",
       "      <td>-0.369509</td>\n",
       "      <td>-0.292027</td>\n",
       "      <td>-0.027654</td>\n",
       "      <td>0.117913</td>\n",
       "    </tr>\n",
       "    <tr>\n",
       "      <th>EXCHANGE_COUNT</th>\n",
       "      <td>0.342355</td>\n",
       "      <td>0.502501</td>\n",
       "      <td>-0.169717</td>\n",
       "      <td>1.000000</td>\n",
       "      <td>0.507819</td>\n",
       "      <td>0.578581</td>\n",
       "      <td>0.032760</td>\n",
       "      <td>-0.216610</td>\n",
       "    </tr>\n",
       "    <tr>\n",
       "      <th>SEG_KM_SUM</th>\n",
       "      <td>0.522350</td>\n",
       "      <td>0.850411</td>\n",
       "      <td>-0.369509</td>\n",
       "      <td>0.507819</td>\n",
       "      <td>1.000000</td>\n",
       "      <td>0.853014</td>\n",
       "      <td>0.087285</td>\n",
       "      <td>-0.171508</td>\n",
       "    </tr>\n",
       "    <tr>\n",
       "      <th>Points_Sum</th>\n",
       "      <td>0.559249</td>\n",
       "      <td>0.747092</td>\n",
       "      <td>-0.292027</td>\n",
       "      <td>0.578581</td>\n",
       "      <td>0.853014</td>\n",
       "      <td>1.000000</td>\n",
       "      <td>0.074887</td>\n",
       "      <td>-0.163431</td>\n",
       "    </tr>\n",
       "    <tr>\n",
       "      <th>age</th>\n",
       "      <td>0.076245</td>\n",
       "      <td>0.075309</td>\n",
       "      <td>-0.027654</td>\n",
       "      <td>0.032760</td>\n",
       "      <td>0.087285</td>\n",
       "      <td>0.074887</td>\n",
       "      <td>1.000000</td>\n",
       "      <td>-0.242579</td>\n",
       "    </tr>\n",
       "    <tr>\n",
       "      <th>ffp_year</th>\n",
       "      <td>-0.116510</td>\n",
       "      <td>-0.188181</td>\n",
       "      <td>0.117913</td>\n",
       "      <td>-0.216610</td>\n",
       "      <td>-0.171508</td>\n",
       "      <td>-0.163431</td>\n",
       "      <td>-0.242579</td>\n",
       "      <td>1.000000</td>\n",
       "    </tr>\n",
       "  </tbody>\n",
       "</table>\n",
       "</div>"
      ],
      "text/plain": [
       "                FFP_TIER  FLIGHT_COUNT  LAST_TO_END  EXCHANGE_COUNT  \\\n",
       "FFP_TIER        1.000000      0.582447    -0.206313        0.342355   \n",
       "FLIGHT_COUNT    0.582447      1.000000    -0.404999        0.502501   \n",
       "LAST_TO_END    -0.206313     -0.404999     1.000000       -0.169717   \n",
       "EXCHANGE_COUNT  0.342355      0.502501    -0.169717        1.000000   \n",
       "SEG_KM_SUM      0.522350      0.850411    -0.369509        0.507819   \n",
       "Points_Sum      0.559249      0.747092    -0.292027        0.578581   \n",
       "age             0.076245      0.075309    -0.027654        0.032760   \n",
       "ffp_year       -0.116510     -0.188181     0.117913       -0.216610   \n",
       "\n",
       "                SEG_KM_SUM  Points_Sum       age  ffp_year  \n",
       "FFP_TIER          0.522350    0.559249  0.076245 -0.116510  \n",
       "FLIGHT_COUNT      0.850411    0.747092  0.075309 -0.188181  \n",
       "LAST_TO_END      -0.369509   -0.292027 -0.027654  0.117913  \n",
       "EXCHANGE_COUNT    0.507819    0.578581  0.032760 -0.216610  \n",
       "SEG_KM_SUM        1.000000    0.853014  0.087285 -0.171508  \n",
       "Points_Sum        0.853014    1.000000  0.074887 -0.163431  \n",
       "age               0.087285    0.074887  1.000000 -0.242579  \n",
       "ffp_year         -0.171508   -0.163431 -0.242579  1.000000  "
      ]
     },
     "execution_count": 213,
     "metadata": {},
     "output_type": "execute_result"
    }
   ],
   "source": [
    "df_corr = data_corr.corr(method='pearson')\n",
    "df_corr"
   ]
  },
  {
   "cell_type": "code",
   "execution_count": 217,
   "metadata": {
    "ExecuteTime": {
     "end_time": "2021-06-09T08:11:08.612883Z",
     "start_time": "2021-06-09T08:11:06.073328Z"
    }
   },
   "outputs": [
    {
     "data": {
      "text/plain": [
       "<AxesSubplot:>"
      ]
     },
     "execution_count": 217,
     "metadata": {},
     "output_type": "execute_result"
    },
    {
     "data": {
      "image/png": "[encoded data removed]",
      "text/plain": [
       "<Figure size 864x864 with 2 Axes>"
      ]
     },
     "metadata": {},
     "output_type": "display_data"
    }
   ],
   "source": [
    "plt.subplots(figsize=(12,12))\n",
    "sns.heatmap(df_corr,vmax=1,square=True,cmap='Reds',annot=True)"
   ]
  },
  {
   "cell_type": "markdown",
   "metadata": {},
   "source": [
    "发现如下：\n",
    "- 飞行总公里数与总积分相关性较强\n",
    "- 其他特征相关性比较弱"
   ]
  },
  {
   "cell_type": "code",
   "execution_count": 218,
   "metadata": {
    "ExecuteTime": {
     "end_time": "2021-06-09T08:13:26.596113Z",
     "start_time": "2021-06-09T08:13:26.086688Z"
    }
   },
   "outputs": [],
   "source": [
    "data_corr.to_csv('data_corr.csv',index=False)"
   ]
  },
  {
   "cell_type": "code",
   "execution_count": null,
   "metadata": {},
   "outputs": [],
   "source": []
  },
  {
   "cell_type": "code",
   "execution_count": null,
   "metadata": {},
   "outputs": [],
   "source": []
  }
 ],
 "metadata": {
  "kernelspec": {
   "display_name": "Python 3",
   "language": "python",
   "name": "python3"
  },
  "language_info": {
   "codemirror_mode": {
    "name": "ipython",
    "version": 3
   },
   "file_extension": ".py",
   "mimetype": "text/x-python",
   "name": "python",
   "nbconvert_exporter": "python",
   "pygments_lexer": "ipython3",
   "version": "3.8.5"
  }
 },
 "nbformat": 4,
 "nbformat_minor": 4
}
